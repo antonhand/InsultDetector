{
 "cells": [
  {
   "cell_type": "code",
   "execution_count": 1,
   "metadata": {
    "_cell_guid": "b1076dfc-b9ad-4769-8c92-a6c4dae69d19",
    "_uuid": "8f2839f25d086af736a60e9eeb907d3b93b6e0e5",
    "execution": {
     "iopub.execute_input": "2020-12-02T16:31:09.701622Z",
     "iopub.status.busy": "2020-12-02T16:31:09.700490Z",
     "iopub.status.idle": "2020-12-02T16:31:09.706592Z",
     "shell.execute_reply": "2020-12-02T16:31:09.705789Z"
    },
    "papermill": {
     "duration": 0.068652,
     "end_time": "2020-12-02T16:31:09.706728",
     "exception": false,
     "start_time": "2020-12-02T16:31:09.638076",
     "status": "completed"
    },
    "tags": []
   },
   "outputs": [
    {
     "output_type": "execute_result",
     "data": {
      "text/plain": [
       "\"import os\\nfor dirname, _, filenames in os.walk('/kaggle/input'):\\n    for filename in filenames:\\n        print(os.path.join(dirname, filename))\""
      ]
     },
     "metadata": {},
     "execution_count": 1
    }
   ],
   "source": [
    "# This Python 3 environment comes with many helpful analytics libraries installed\n",
    "# It is defined by the kaggle/python Docker image: https://github.com/kaggle/docker-python\n",
    "# For example, here's several helpful packages to load\n",
    "\n",
    "import numpy as np # linear algebra\n",
    "import pandas as pd # data processing, CSV file I/O (e.g. pd.read_csv)\n",
    "\n",
    "# Input data files are available in the read-only \"../input/\" directory\n",
    "# For example, running this (by clicking run or pressing Shift+Enter) will list all files under the input directory\n",
    "\n",
    "'''import os\n",
    "for dirname, _, filenames in os.walk('/kaggle/input'):\n",
    "    for filename in filenames:\n",
    "        print(os.path.join(dirname, filename))'''\n",
    "\n",
    "# You can write up to 20GB to the current directory (/kaggle/working/) that gets preserved as output when you create a version using \"Save & Run All\" \n",
    "# You can also write temporary files to /kaggle/temp/, but they won't be saved outside of the current session"
   ]
  },
  {
   "cell_type": "code",
   "execution_count": 2,
   "metadata": {
    "execution": {
     "iopub.execute_input": "2020-12-02T16:31:09.818038Z",
     "iopub.status.busy": "2020-12-02T16:31:09.817295Z",
     "iopub.status.idle": "2020-12-02T16:31:09.820430Z",
     "shell.execute_reply": "2020-12-02T16:31:09.819688Z"
    },
    "papermill": {
     "duration": 0.060092,
     "end_time": "2020-12-02T16:31:09.820562",
     "exception": false,
     "start_time": "2020-12-02T16:31:09.760470",
     "status": "completed"
    },
    "tags": []
   },
   "outputs": [],
   "source": [
    "import warnings\n",
    "warnings.simplefilter('ignore')"
   ]
  },
  {
   "cell_type": "code",
   "execution_count": 3,
   "metadata": {
    "execution": {
     "iopub.execute_input": "2020-12-02T16:31:09.943221Z",
     "iopub.status.busy": "2020-12-02T16:31:09.942387Z",
     "iopub.status.idle": "2020-12-02T16:31:14.682210Z",
     "shell.execute_reply": "2020-12-02T16:31:14.681393Z"
    },
    "papermill": {
     "duration": 4.808597,
     "end_time": "2020-12-02T16:31:14.682354",
     "exception": false,
     "start_time": "2020-12-02T16:31:09.873757",
     "status": "completed"
    },
    "tags": []
   },
   "outputs": [
    {
     "name": "stdout",
     "output_type": "stream",
     "text": [
      "Archive:  /kaggle/input/jigsaw-toxic-comment-classification-challenge/test_labels.csv.zip\r\n",
      "  inflating: test_labels.csv         \r\n",
      "Archive:  /kaggle/input/jigsaw-toxic-comment-classification-challenge/train.csv.zip\r\n",
      "  inflating: train.csv               \r\n",
      "Archive:  /kaggle/input/jigsaw-toxic-comment-classification-challenge/test.csv.zip\r\n",
      "  inflating: test.csv                \r\n",
      "Archive:  /kaggle/input/jigsaw-toxic-comment-classification-challenge/sample_submission.csv.zip\r\n",
      "  inflating: sample_submission.csv   \r\n"
     ]
    }
   ],
   "source": [
    "'''!unzip /kaggle/input/jigsaw-toxic-comment-classification-challenge/test_labels.csv.zip\n",
    "!unzip /kaggle/input/jigsaw-toxic-comment-classification-challenge/train.csv.zip\n",
    "!unzip /kaggle/input/jigsaw-toxic-comment-classification-challenge/test.csv.zip\n",
    "!unzip /kaggle/input/jigsaw-toxic-comment-classification-challenge/sample_submission.csv.zip'''"
   ]
  },
  {
   "cell_type": "code",
   "execution_count": 33,
   "metadata": {
    "execution": {
     "iopub.execute_input": "2020-12-02T16:31:14.803860Z",
     "iopub.status.busy": "2020-12-02T16:31:14.800452Z",
     "iopub.status.idle": "2020-12-02T16:31:15.537974Z",
     "shell.execute_reply": "2020-12-02T16:31:15.537248Z"
    },
    "papermill": {
     "duration": 0.799653,
     "end_time": "2020-12-02T16:31:15.538108",
     "exception": false,
     "start_time": "2020-12-02T16:31:14.738455",
     "status": "completed"
    },
    "tags": []
   },
   "outputs": [
    {
     "output_type": "execute_result",
     "data": {
      "text/plain": [
       "1"
      ]
     },
     "metadata": {},
     "execution_count": 33
    }
   ],
   "source": [
    "'''!ls /kaggle/working/'''\n",
    "int(True)"
   ]
  },
  {
   "cell_type": "code",
   "execution_count": 34,
   "metadata": {
    "execution": {
     "iopub.execute_input": "2020-12-02T16:31:16.918027Z",
     "iopub.status.busy": "2020-12-02T16:31:16.917180Z",
     "iopub.status.idle": "2020-12-02T16:31:19.116568Z",
     "shell.execute_reply": "2020-12-02T16:31:19.115710Z"
    },
    "papermill": {
     "duration": 2.262774,
     "end_time": "2020-12-02T16:31:19.116699",
     "exception": false,
     "start_time": "2020-12-02T16:31:16.853925",
     "status": "completed"
    },
    "tags": []
   },
   "outputs": [],
   "source": [
    "import seaborn as sns\n",
    "\n",
    "import fasttext\n",
    "import json\n",
    "\n",
    "def __flatten_child(trees):\n",
    "    flat = []\n",
    "    #flat.extend(map(lambda x: {\"id\": x[\"id\"], \"text\": x[\"text\"], \"insult\": int(x[\"insult\"]), \"not insult\": int(not x[\"insult\"])}, filter(lambda x: \"insult\"  in x, trees)))\n",
    "    flat.extend(map(lambda x: {\"id\": x[\"id\"], \"text\": x[\"text\"], \"insult\": int(x[\"insult\"])}, filter(lambda x: \"insult\"  in x, trees)))\n",
    "    for obj in trees:\n",
    "        if \"children\" in obj:\n",
    "            flat.extend(__flatten_child(obj[\"children\"]))\n",
    "    return flat\n",
    "\n",
    "def __flatten(trees):\n",
    "    flat = []\n",
    "    for root in trees:\n",
    "        obj = root[\"root\"]\n",
    "        if \"children\" in obj:\n",
    "            flat.extend(__flatten_child(obj[\"children\"]))\n",
    "    return flat\n",
    "\n",
    "def __split_corp_label(labeled_discussions):\n",
    "    corpus = []\n",
    "    labels = []\n",
    "    for obj in __flatten(labeled_discussions):\n",
    "        if \"insult\" in obj:\n",
    "            corpus.append({\"id\": obj[\"id\"], \"text\": obj[\"text\"]})\n",
    "            #labels.append({\"id\": obj[\"id\"], \"insult\": int(obj[\"insult\"]), \"not insult\": int(not obj[\"insult\"])})\n",
    "            labels.append({\"id\": obj[\"id\"], \"insult\": int(obj[\"insult\"])})\n",
    "    \n",
    "    return corpus, labels\n",
    "\n",
    "test_data = json.load(open(\"discussions_tpc_2015/modis/discussions.json\", encoding=\"utf8\"))\n",
    "train_data = json.load(open(\"discussions_tpc_2015/students/discussions.json\", encoding=\"utf8\"))\n",
    "\n",
    "train_df = pd.DataFrame.from_records(__flatten(train_data))\n",
    "\n",
    "corpus, labels = __split_corp_label(test_data)\n",
    "test_df = pd.DataFrame.from_records(corpus)\n",
    "sample_submission_df = pd.DataFrame.from_records(labels)\n",
    "test_labels_df = sample_submission_df"
   ]
  },
  {
   "cell_type": "code",
   "execution_count": 46,
   "metadata": {
    "execution": {
     "iopub.execute_input": "2020-12-02T16:31:19.251944Z",
     "iopub.status.busy": "2020-12-02T16:31:19.251096Z",
     "iopub.status.idle": "2020-12-02T16:31:19.263079Z",
     "shell.execute_reply": "2020-12-02T16:31:19.262305Z"
    },
    "papermill": {
     "duration": 0.089671,
     "end_time": "2020-12-02T16:31:19.263221",
     "exception": false,
     "start_time": "2020-12-02T16:31:19.173550",
     "status": "completed"
    },
    "tags": []
   },
   "outputs": [
    {
     "output_type": "execute_result",
     "data": {
      "text/plain": [
       "                                                  id  \\\n",
       "0  http://pavel_kosenko.livejournal.com/671121.ht...   \n",
       "1  http://pavel_kosenko.livejournal.com/671121.ht...   \n",
       "2  http://pavel_kosenko.livejournal.com/671121.ht...   \n",
       "3  http://pavel_kosenko.livejournal.com/671121.ht...   \n",
       "4  http://pavel_kosenko.livejournal.com/671121.ht...   \n",
       "\n",
       "                                                text  insult labels  \n",
       "0  первая обработанная вами фотка ну совсем не нр...       0     []  \n",
       "1                                павел  мне нравится       0     []  \n",
       "2  ухудшайзер соответствует названию  за упражнен...       0     []  \n",
       "3                а может она только что из бани была       0     []  \n",
       "4  я в основном в чб редактирую фотографии  ибо ц...       0     []  "
      ],
      "text/html": "<div>\n<style scoped>\n    .dataframe tbody tr th:only-of-type {\n        vertical-align: middle;\n    }\n\n    .dataframe tbody tr th {\n        vertical-align: top;\n    }\n\n    .dataframe thead th {\n        text-align: right;\n    }\n</style>\n<table border=\"1\" class=\"dataframe\">\n  <thead>\n    <tr style=\"text-align: right;\">\n      <th></th>\n      <th>id</th>\n      <th>text</th>\n      <th>insult</th>\n      <th>labels</th>\n    </tr>\n  </thead>\n  <tbody>\n    <tr>\n      <th>0</th>\n      <td>http://pavel_kosenko.livejournal.com/671121.ht...</td>\n      <td>первая обработанная вами фотка ну совсем не нр...</td>\n      <td>0</td>\n      <td>[]</td>\n    </tr>\n    <tr>\n      <th>1</th>\n      <td>http://pavel_kosenko.livejournal.com/671121.ht...</td>\n      <td>павел  мне нравится</td>\n      <td>0</td>\n      <td>[]</td>\n    </tr>\n    <tr>\n      <th>2</th>\n      <td>http://pavel_kosenko.livejournal.com/671121.ht...</td>\n      <td>ухудшайзер соответствует названию  за упражнен...</td>\n      <td>0</td>\n      <td>[]</td>\n    </tr>\n    <tr>\n      <th>3</th>\n      <td>http://pavel_kosenko.livejournal.com/671121.ht...</td>\n      <td>а может она только что из бани была</td>\n      <td>0</td>\n      <td>[]</td>\n    </tr>\n    <tr>\n      <th>4</th>\n      <td>http://pavel_kosenko.livejournal.com/671121.ht...</td>\n      <td>я в основном в чб редактирую фотографии  ибо ц...</td>\n      <td>0</td>\n      <td>[]</td>\n    </tr>\n  </tbody>\n</table>\n</div>"
     },
     "metadata": {},
     "execution_count": 46
    }
   ],
   "source": [
    "train_df.head()"
   ]
  },
  {
   "cell_type": "code",
   "execution_count": 4,
   "metadata": {
    "execution": {
     "iopub.execute_input": "2020-12-02T16:31:19.395408Z",
     "iopub.status.busy": "2020-12-02T16:31:19.394450Z",
     "iopub.status.idle": "2020-12-02T16:31:19.399046Z",
     "shell.execute_reply": "2020-12-02T16:31:19.398247Z"
    },
    "papermill": {
     "duration": 0.077978,
     "end_time": "2020-12-02T16:31:19.399186",
     "exception": false,
     "start_time": "2020-12-02T16:31:19.321208",
     "status": "completed"
    },
    "tags": []
   },
   "outputs": [
    {
     "output_type": "execute_result",
     "data": {
      "text/plain": [
       "                                                  id  insult\n",
       "0  http://kruzenwtern.livejournal.com/373788.html...   False\n",
       "1  http://kruzenwtern.livejournal.com/373788.html...   False\n",
       "2  http://kruzenwtern.livejournal.com/373788.html...   False\n",
       "3  http://kruzenwtern.livejournal.com/373788.html...   False\n",
       "4  http://kruzenwtern.livejournal.com/373788.html...   False"
      ],
      "text/html": "<div>\n<style scoped>\n    .dataframe tbody tr th:only-of-type {\n        vertical-align: middle;\n    }\n\n    .dataframe tbody tr th {\n        vertical-align: top;\n    }\n\n    .dataframe thead th {\n        text-align: right;\n    }\n</style>\n<table border=\"1\" class=\"dataframe\">\n  <thead>\n    <tr style=\"text-align: right;\">\n      <th></th>\n      <th>id</th>\n      <th>insult</th>\n    </tr>\n  </thead>\n  <tbody>\n    <tr>\n      <th>0</th>\n      <td>http://kruzenwtern.livejournal.com/373788.html...</td>\n      <td>False</td>\n    </tr>\n    <tr>\n      <th>1</th>\n      <td>http://kruzenwtern.livejournal.com/373788.html...</td>\n      <td>False</td>\n    </tr>\n    <tr>\n      <th>2</th>\n      <td>http://kruzenwtern.livejournal.com/373788.html...</td>\n      <td>False</td>\n    </tr>\n    <tr>\n      <th>3</th>\n      <td>http://kruzenwtern.livejournal.com/373788.html...</td>\n      <td>False</td>\n    </tr>\n    <tr>\n      <th>4</th>\n      <td>http://kruzenwtern.livejournal.com/373788.html...</td>\n      <td>False</td>\n    </tr>\n  </tbody>\n</table>\n</div>"
     },
     "metadata": {},
     "execution_count": 4
    }
   ],
   "source": [
    "sample_submission_df.head()"
   ]
  },
  {
   "cell_type": "code",
   "execution_count": 5,
   "metadata": {
    "execution": {
     "iopub.execute_input": "2020-12-02T16:31:19.530373Z",
     "iopub.status.busy": "2020-12-02T16:31:19.529514Z",
     "iopub.status.idle": "2020-12-02T16:31:19.533899Z",
     "shell.execute_reply": "2020-12-02T16:31:19.533259Z"
    },
    "papermill": {
     "duration": 0.074876,
     "end_time": "2020-12-02T16:31:19.534073",
     "exception": false,
     "start_time": "2020-12-02T16:31:19.459197",
     "status": "completed"
    },
    "tags": []
   },
   "outputs": [
    {
     "output_type": "execute_result",
     "data": {
      "text/plain": [
       "                                                  id  \\\n",
       "0  http://kruzenwtern.livejournal.com/373788.html...   \n",
       "1  http://kruzenwtern.livejournal.com/373788.html...   \n",
       "2  http://kruzenwtern.livejournal.com/373788.html...   \n",
       "3  http://kruzenwtern.livejournal.com/373788.html...   \n",
       "4  http://kruzenwtern.livejournal.com/373788.html...   \n",
       "\n",
       "                                                text  \n",
       "0  Познавательно))) Ушел смотреть свой пост с рул...  \n",
       "1                              Вместительная машина!  \n",
       "2  Извините, ребята, а как давно начали так пиари...  \n",
       "3                  А что за каска такая симпатичная?  \n",
       "4                   да, богатый на емкость сарай! :)  "
      ],
      "text/html": "<div>\n<style scoped>\n    .dataframe tbody tr th:only-of-type {\n        vertical-align: middle;\n    }\n\n    .dataframe tbody tr th {\n        vertical-align: top;\n    }\n\n    .dataframe thead th {\n        text-align: right;\n    }\n</style>\n<table border=\"1\" class=\"dataframe\">\n  <thead>\n    <tr style=\"text-align: right;\">\n      <th></th>\n      <th>id</th>\n      <th>text</th>\n    </tr>\n  </thead>\n  <tbody>\n    <tr>\n      <th>0</th>\n      <td>http://kruzenwtern.livejournal.com/373788.html...</td>\n      <td>Познавательно))) Ушел смотреть свой пост с рул...</td>\n    </tr>\n    <tr>\n      <th>1</th>\n      <td>http://kruzenwtern.livejournal.com/373788.html...</td>\n      <td>Вместительная машина!</td>\n    </tr>\n    <tr>\n      <th>2</th>\n      <td>http://kruzenwtern.livejournal.com/373788.html...</td>\n      <td>Извините, ребята, а как давно начали так пиари...</td>\n    </tr>\n    <tr>\n      <th>3</th>\n      <td>http://kruzenwtern.livejournal.com/373788.html...</td>\n      <td>А что за каска такая симпатичная?</td>\n    </tr>\n    <tr>\n      <th>4</th>\n      <td>http://kruzenwtern.livejournal.com/373788.html...</td>\n      <td>да, богатый на емкость сарай! :)</td>\n    </tr>\n  </tbody>\n</table>\n</div>"
     },
     "metadata": {},
     "execution_count": 5
    }
   ],
   "source": [
    "test_df.head()"
   ]
  },
  {
   "cell_type": "code",
   "execution_count": 36,
   "metadata": {
    "execution": {
     "iopub.execute_input": "2020-12-02T16:31:20.410208Z",
     "iopub.status.busy": "2020-12-02T16:31:20.409278Z",
     "iopub.status.idle": "2020-12-02T16:31:20.666110Z",
     "shell.execute_reply": "2020-12-02T16:31:20.665254Z"
    },
    "papermill": {
     "duration": 0.35262,
     "end_time": "2020-12-02T16:31:20.666241",
     "exception": false,
     "start_time": "2020-12-02T16:31:20.313621",
     "status": "completed"
    },
    "tags": []
   },
   "outputs": [],
   "source": [
    "import re\n",
    "import logging\n",
    "import itertools\n",
    "import unicodedata\n",
    "# import contractions\n",
    "\n",
    "from bs4 import BeautifulSoup\n",
    "\n",
    "class TextCleaningUtils:\n",
    "    '''\n",
    "        This class contains implementations of various text cleaning operations (Static Methods)\n",
    "    '''\n",
    "\n",
    "\n",
    "    cleaning_regex_map = {\n",
    "        'web_links': r'(?i)(?:(?:http(?:s)?:)|(?:www\\.))\\S+',\n",
    "        'special_chars': r'[^a-zA-Zа-яА-ЯёЁ0-9\\s\\.,!?;:]+',\n",
    "        'redundant_spaces': r'\\s\\s+',\n",
    "        'redundant_newlines': r'[\\r|\\n|\\r\\n]+',\n",
    "        'twitter_handles': r'[#@]\\S+',\n",
    "        'punctuations': r'[\\.,!?;:]+'\n",
    "    }\n",
    "\n",
    "    @staticmethod\n",
    "    def clean_text_from_regex(text, text_clean_regex):\n",
    "        '''\n",
    "            Follow a particular cleaning expression, provided\n",
    "            as an input by an user to clean the text.\n",
    "        '''\n",
    "\n",
    "        text = text_clean_regex.sub(' ', text).strip()\n",
    "        return text\n",
    "\n",
    "    @staticmethod\n",
    "    def strip_html(text):\n",
    "        soup = BeautifulSoup(text, \"html.parser\")\n",
    "        return soup.get_text()\n",
    "\n",
    "    @staticmethod\n",
    "    def remove_special_chars(text):\n",
    "        '''\n",
    "            Replace any special character provided as default,\n",
    "            which is present in the text with space\n",
    "        '''\n",
    "\n",
    "        special_chars_regex = re.compile(TextCleaningUtils.cleaning_regex_map['special_chars'])\n",
    "        text = TextCleaningUtils.clean_text_from_regex(text, special_chars_regex)\n",
    "        return text\n",
    "\n",
    "    @staticmethod\n",
    "    def remove_redundant_spaces(text):\n",
    "        '''\n",
    "            Remove any redundant space provided as default,\n",
    "            that is present in the text.\n",
    "        '''\n",
    "\n",
    "        redundant_spaces_regex = re.compile(\n",
    "            TextCleaningUtils.cleaning_regex_map['redundant_spaces'])\n",
    "        text = TextCleaningUtils.clean_text_from_regex(text, redundant_spaces_regex)\n",
    "        return text\n",
    "\n",
    "    @staticmethod\n",
    "    def remove_web_links(text):\n",
    "        '''\n",
    "            Removes any web link that follows a particular default expression,\n",
    "            present in the text.\n",
    "        '''\n",
    "\n",
    "        web_links_regex = re.compile(TextCleaningUtils.cleaning_regex_map['web_links'])\n",
    "        text = TextCleaningUtils.clean_text_from_regex(text, web_links_regex)\n",
    "        return text\n",
    "\n",
    "    @staticmethod\n",
    "    def remove_twitter_handles(text):\n",
    "        '''\n",
    "            Removes any twitter handle present in the text.\n",
    "        '''\n",
    "\n",
    "        twitter_handles_regex = re.compile(TextCleaningUtils.cleaning_regex_map['twitter_handles'])\n",
    "        text = TextCleaningUtils.clean_text_from_regex(text, twitter_handles_regex)\n",
    "        return text\n",
    "\n",
    "    @staticmethod\n",
    "    def remove_redundant_newlines(text):\n",
    "        '''\n",
    "            Removes any redundant new line present in the text.\n",
    "        '''\n",
    "\n",
    "        redundant_newlines_regex = re.compile(\n",
    "            TextCleaningUtils.cleaning_regex_map['redundant_newlines'])\n",
    "        text = TextCleaningUtils.clean_text_from_regex(text, redundant_newlines_regex)\n",
    "        return text\n",
    "\n",
    "    @staticmethod\n",
    "    def remove_punctuations(text):\n",
    "        '''\n",
    "            Removes any punctuation that follows the default expression, in the text.\n",
    "        '''\n",
    "\n",
    "        remove_punctuations_regex = re.compile(TextCleaningUtils.cleaning_regex_map['punctuations'])\n",
    "        text = TextCleaningUtils.clean_text_from_regex(text, remove_punctuations_regex)\n",
    "        return text\n",
    "\n",
    "    @staticmethod\n",
    "    def remove_exaggerated_words(text):\n",
    "        '''\n",
    "            Removes any exaggerated word present in the text.\n",
    "        '''\n",
    "\n",
    "        return ''.join(''.join(s)[:2] for _, s in itertools.groupby(text))\n",
    "\n",
    "    @staticmethod\n",
    "    def replace_multiple_chars(text):\n",
    "        '''\n",
    "            Replaces multiple characters present in the text.\n",
    "        '''\n",
    "\n",
    "        char_list = ['.', '?', '!', '#', '$', '/', '@', '*', '(', ')', '+']\n",
    "        final_text = ''\n",
    "        for i in char_list:\n",
    "            if i in text:\n",
    "                pattern = \"\\\\\" + i + '{2,}'\n",
    "                repl_str = i.replace(\"\\\\\", \"\")\n",
    "                text = re.sub(pattern, repl_str, text)\n",
    "                final_text = ' '.join(text.split())\n",
    "        return final_text\n",
    "\n",
    "    @staticmethod\n",
    "    def replace_sign(text):\n",
    "        '''\n",
    "            Replaces any sign with words like & with 'and', in the text.\n",
    "        '''\n",
    "        sign_list = {'&': ' and ', '/': ' or ', '\\xa0': ' '}\n",
    "        final_text = ''\n",
    "        for i in sign_list:\n",
    "            if i in text:\n",
    "                text = re.sub(i, sign_list[i], text)\n",
    "                final_text = ' '.join(text.split())\n",
    "        return final_text\n",
    "\n",
    "    @staticmethod\n",
    "    def remove_accented_char(text):\n",
    "        text = unicodedata.normalize('NFD', text) \\\n",
    "            .encode('ascii', 'ignore') \\\n",
    "            .decode(\"utf-8\")\n",
    "        return str(text)\n",
    "\n",
    "    @staticmethod\n",
    "    def replace_characters(text, replace_map):\n",
    "        '''\n",
    "            Replaces any character custom provided by an user.\n",
    "        '''\n",
    "\n",
    "        for char, replace_val in replace_map.items():\n",
    "            text = text.replace(char, replace_val)\n",
    "        return text"
   ]
  },
  {
   "cell_type": "code",
   "execution_count": 37,
   "metadata": {
    "execution": {
     "iopub.execute_input": "2020-12-02T16:31:20.815189Z",
     "iopub.status.busy": "2020-12-02T16:31:20.814160Z",
     "iopub.status.idle": "2020-12-02T16:31:20.817665Z",
     "shell.execute_reply": "2020-12-02T16:31:20.817024Z"
    },
    "papermill": {
     "duration": 0.085657,
     "end_time": "2020-12-02T16:31:20.817797",
     "exception": false,
     "start_time": "2020-12-02T16:31:20.732140",
     "status": "completed"
    },
    "tags": []
   },
   "outputs": [],
   "source": [
    "def clean_data(df,col_to_clean):\n",
    "  df[col_to_clean] = df[col_to_clean].apply(TextCleaningUtils.remove_special_chars)\n",
    "  df[col_to_clean] = df[col_to_clean].apply(TextCleaningUtils.remove_redundant_spaces)\n",
    "  df[col_to_clean] = df[col_to_clean].apply(TextCleaningUtils.remove_punctuations)\n",
    "  df[col_to_clean] = df[col_to_clean].apply(TextCleaningUtils.remove_exaggerated_words)\n",
    "  df[col_to_clean] = df[col_to_clean].apply(TextCleaningUtils.remove_redundant_newlines)\n",
    "  df[col_to_clean] = df[col_to_clean].apply(TextCleaningUtils.remove_twitter_handles)\n",
    "  df[col_to_clean] = df[col_to_clean].apply(TextCleaningUtils.remove_web_links)\n",
    "  df[col_to_clean] = df[col_to_clean].astype(str)\n",
    "  df[col_to_clean] = df[col_to_clean].str.lower()\n",
    "  return df"
   ]
  },
  {
   "cell_type": "code",
   "execution_count": 38,
   "metadata": {
    "execution": {
     "iopub.execute_input": "2020-12-02T16:31:20.954121Z",
     "iopub.status.busy": "2020-12-02T16:31:20.950910Z",
     "iopub.status.idle": "2020-12-02T16:32:16.133282Z",
     "shell.execute_reply": "2020-12-02T16:32:16.132367Z"
    },
    "papermill": {
     "duration": 55.251588,
     "end_time": "2020-12-02T16:32:16.133460",
     "exception": false,
     "start_time": "2020-12-02T16:31:20.881872",
     "status": "completed"
    },
    "tags": []
   },
   "outputs": [],
   "source": [
    "train_df = clean_data(train_df,'text')"
   ]
  },
  {
   "cell_type": "code",
   "execution_count": 39,
   "metadata": {
    "execution": {
     "iopub.execute_input": "2020-12-02T16:32:16.277757Z",
     "iopub.status.busy": "2020-12-02T16:32:16.274661Z",
     "iopub.status.idle": "2020-12-02T16:33:03.665877Z",
     "shell.execute_reply": "2020-12-02T16:33:03.664952Z"
    },
    "papermill": {
     "duration": 47.466661,
     "end_time": "2020-12-02T16:33:03.666101",
     "exception": false,
     "start_time": "2020-12-02T16:32:16.199440",
     "status": "completed"
    },
    "tags": []
   },
   "outputs": [],
   "source": [
    "test_df = clean_data(test_df,'text')"
   ]
  },
  {
   "cell_type": "code",
   "execution_count": 45,
   "metadata": {
    "execution": {
     "iopub.execute_input": "2020-12-02T16:33:03.804350Z",
     "iopub.status.busy": "2020-12-02T16:33:03.803458Z",
     "iopub.status.idle": "2020-12-02T16:33:12.329860Z",
     "shell.execute_reply": "2020-12-02T16:33:12.329015Z"
    },
    "papermill": {
     "duration": 8.598275,
     "end_time": "2020-12-02T16:33:12.330001",
     "exception": false,
     "start_time": "2020-12-02T16:33:03.731726",
     "status": "completed"
    },
    "tags": []
   },
   "outputs": [],
   "source": [
    "def list_labels(row):\n",
    "    label_list = []\n",
    "    if row['insult'] == 1:\n",
    "        label_list.append('insult')\n",
    "    #if row['not insult'] == 1:\n",
    "    #    label_list.append('not insult')\n",
    "    return label_list\n",
    "train_df['labels'] = train_df.apply(lambda x:list_labels(x) , axis=1)"
   ]
  },
  {
   "cell_type": "code",
   "execution_count": 17,
   "metadata": {
    "execution": {
     "iopub.execute_input": "2020-12-02T16:33:12.459039Z",
     "iopub.status.busy": "2020-12-02T16:33:12.458250Z",
     "iopub.status.idle": "2020-12-02T16:33:12.462155Z",
     "shell.execute_reply": "2020-12-02T16:33:12.461536Z"
    },
    "papermill": {
     "duration": 0.070181,
     "end_time": "2020-12-02T16:33:12.462298",
     "exception": false,
     "start_time": "2020-12-02T16:33:12.392117",
     "status": "completed"
    },
    "tags": []
   },
   "outputs": [],
   "source": [
    "# fwf converter"
   ]
  },
  {
   "cell_type": "code",
   "execution_count": 41,
   "metadata": {
    "execution": {
     "iopub.execute_input": "2020-12-02T16:33:12.603711Z",
     "iopub.status.busy": "2020-12-02T16:33:12.596318Z",
     "iopub.status.idle": "2020-12-02T16:33:12.614437Z",
     "shell.execute_reply": "2020-12-02T16:33:12.613576Z"
    },
    "papermill": {
     "duration": 0.090112,
     "end_time": "2020-12-02T16:33:12.614574",
     "exception": false,
     "start_time": "2020-12-02T16:33:12.524462",
     "status": "completed"
    },
    "tags": []
   },
   "outputs": [],
   "source": [
    "import logging\n",
    "import pandas as pd\n",
    "from ast import literal_eval\n",
    "from tabulate import tabulate\n",
    "import re\n",
    "\n",
    "\n",
    "class FwfConvertor:\n",
    "\n",
    "    def __init__(self):\n",
    "        pass\n",
    "\n",
    "    @staticmethod\n",
    "    def save_fwf_tr_data(data, text_col, labels_col, label_mapping=None):\n",
    "        if label_mapping is not None:\n",
    "            data[labels_col] = data[labels_col].apply(FwfConvertor.label_map_func, label_mapping=label_mapping)\n",
    "        # Preprocessing df in format for fwf\n",
    "        data[labels_col] = data[labels_col].apply(FwfConvertor.preprocess_fwf_func)\n",
    "        # limiting only two columns in fwf file\n",
    "        data = data[[labels_col, text_col]]\n",
    "        # Converting to fwf format\n",
    "        content = FwfConvertor.to_fwf(data)\n",
    "        try:\n",
    "            open('Model Training data.train', 'w').write(content)\n",
    "            logging.info(\"FWF file saved\")\n",
    "        except Exception as exp:\n",
    "            logging.error(\"File saving failed\", exp)\n",
    "\n",
    "    @staticmethod\n",
    "    def label_map_func(element, label_mapping):\n",
    "        return list((tag.replace(tag, label_mapping[tag])) for tag in element)\n",
    "\n",
    "    @staticmethod\n",
    "    def preprocess_fwf_func(element):\n",
    "        return \" \".join(element)\n",
    "\n",
    "    @staticmethod\n",
    "    def to_fwf(df):\n",
    "        content = tabulate(list(df.values), list(df.columns), tablefmt=\"plain\")\n",
    "        content = content[(content.find('\\n') + 1):]\n",
    "        content = re.sub(' +', ' ', content)\n",
    "        return content"
   ]
  },
  {
   "cell_type": "code",
   "execution_count": 42,
   "metadata": {
    "execution": {
     "iopub.execute_input": "2020-12-02T16:33:12.748086Z",
     "iopub.status.busy": "2020-12-02T16:33:12.747289Z",
     "iopub.status.idle": "2020-12-02T16:33:12.751071Z",
     "shell.execute_reply": "2020-12-02T16:33:12.750269Z"
    },
    "papermill": {
     "duration": 0.072696,
     "end_time": "2020-12-02T16:33:12.751199",
     "exception": false,
     "start_time": "2020-12-02T16:33:12.678503",
     "status": "completed"
    },
    "tags": []
   },
   "outputs": [],
   "source": [
    "label_mapping = {\"insult\": \"__label__ins\"}"
   ]
  },
  {
   "cell_type": "code",
   "execution_count": 47,
   "metadata": {
    "execution": {
     "iopub.execute_input": "2020-12-02T16:33:12.921076Z",
     "iopub.status.busy": "2020-12-02T16:33:12.883810Z",
     "iopub.status.idle": "2020-12-02T16:55:47.120430Z",
     "shell.execute_reply": "2020-12-02T16:55:47.121120Z"
    },
    "papermill": {
     "duration": 1354.306643,
     "end_time": "2020-12-02T16:55:47.121297",
     "exception": false,
     "start_time": "2020-12-02T16:33:12.814654",
     "status": "completed"
    },
    "tags": []
   },
   "outputs": [
    {
     "output_type": "stream",
     "name": "stdout",
     "text": [
      "Wall time: 3min 14s\n"
     ]
    }
   ],
   "source": [
    "%%time\n",
    "FwfConvertor.save_fwf_tr_data(train_df, 'text', 'labels', label_mapping=label_mapping)"
   ]
  },
  {
   "cell_type": "code",
   "execution_count": 18,
   "metadata": {
    "execution": {
     "iopub.execute_input": "2020-12-02T16:55:47.256679Z",
     "iopub.status.busy": "2020-12-02T16:55:47.255903Z",
     "iopub.status.idle": "2020-12-02T16:56:44.436022Z",
     "shell.execute_reply": "2020-12-02T16:56:44.435352Z"
    },
    "papermill": {
     "duration": 57.250448,
     "end_time": "2020-12-02T16:56:44.436165",
     "exception": false,
     "start_time": "2020-12-02T16:55:47.185717",
     "status": "completed"
    },
    "tags": []
   },
   "outputs": [
    {
     "output_type": "stream",
     "name": "stderr",
     "text": [
      "Warning : `load_model` does not return WordVectorModel or SupervisedModel any more, but a `FastText` object which is very similar.\n"
     ]
    }
   ],
   "source": [
    "# download wiki file\n",
    "import fasttext.util\n",
    "#fasttext.util.download_model('ru', if_exists='ignore')\n",
    "%%time\n",
    "ft = fasttext.load_model('fasttext/cc.ru.300.bin')"
   ]
  },
  {
   "cell_type": "code",
   "execution_count": 48,
   "metadata": {
    "execution": {
     "iopub.execute_input": "2020-12-02T16:57:08.290915Z",
     "iopub.status.busy": "2020-12-02T16:57:08.290055Z",
     "iopub.status.idle": "2020-12-02T16:57:08.293964Z",
     "shell.execute_reply": "2020-12-02T16:57:08.293163Z"
    },
    "papermill": {
     "duration": 0.180536,
     "end_time": "2020-12-02T16:57:08.294094",
     "exception": false,
     "start_time": "2020-12-02T16:57:08.113558",
     "status": "completed"
    },
    "tags": []
   },
   "outputs": [],
   "source": [
    "train_fn='Model Training data.train'\n",
    "pretrainedvec_fn = 'fasttext/cc.ru.300.vec'"
   ]
  },
  {
   "cell_type": "code",
   "execution_count": 53,
   "metadata": {
    "execution": {
     "iopub.execute_input": "2020-12-02T16:57:08.655588Z",
     "iopub.status.busy": "2020-12-02T16:57:08.654705Z",
     "iopub.status.idle": "2020-12-02T17:00:03.145357Z",
     "shell.execute_reply": "2020-12-02T17:00:03.146130Z"
    },
    "papermill": {
     "duration": 174.676229,
     "end_time": "2020-12-02T17:00:03.146301",
     "exception": false,
     "start_time": "2020-12-02T16:57:08.470072",
     "status": "completed"
    },
    "tags": []
   },
   "outputs": [
    {
     "output_type": "stream",
     "name": "stdout",
     "text": [
      "Wall time: 9min 52s\n"
     ]
    }
   ],
   "source": [
    "%%time\n",
    "model = fasttext.train_supervised(input=train_fn,\n",
    "                                  pretrainedVectors=pretrainedvec_fn,\n",
    "                                  dim=300, \n",
    "                                  wordNgrams=2, \n",
    "                                  minCount=3, \n",
    "                                  epoch=25, \n",
    "                                  loss=\"ova\")"
   ]
  },
  {
   "cell_type": "code",
   "execution_count": 54,
   "metadata": {
    "execution": {
     "iopub.execute_input": "2020-12-02T17:00:03.534006Z",
     "iopub.status.busy": "2020-12-02T17:00:03.501284Z",
     "iopub.status.idle": "2020-12-02T17:00:15.447640Z",
     "shell.execute_reply": "2020-12-02T17:00:15.446774Z"
    },
    "papermill": {
     "duration": 12.126779,
     "end_time": "2020-12-02T17:00:15.447792",
     "exception": false,
     "start_time": "2020-12-02T17:00:03.321013",
     "status": "completed"
    },
    "tags": []
   },
   "outputs": [],
   "source": [
    "train_df['debug_threshold'] = train_df['text'].apply(lambda x: model.predict(x,k=1))"
   ]
  },
  {
   "cell_type": "code",
   "execution_count": 55,
   "metadata": {
    "execution": {
     "iopub.execute_input": "2020-12-02T17:00:15.817703Z",
     "iopub.status.busy": "2020-12-02T17:00:15.816655Z",
     "iopub.status.idle": "2020-12-02T17:00:15.821837Z",
     "shell.execute_reply": "2020-12-02T17:00:15.821034Z"
    },
    "papermill": {
     "duration": 0.201154,
     "end_time": "2020-12-02T17:00:15.821967",
     "exception": false,
     "start_time": "2020-12-02T17:00:15.620813",
     "status": "completed"
    },
    "tags": []
   },
   "outputs": [
    {
     "output_type": "execute_result",
     "data": {
      "text/plain": [
       "                                                  id  \\\n",
       "0  http://pavel_kosenko.livejournal.com/671121.ht...   \n",
       "1  http://pavel_kosenko.livejournal.com/671121.ht...   \n",
       "2  http://pavel_kosenko.livejournal.com/671121.ht...   \n",
       "3  http://pavel_kosenko.livejournal.com/671121.ht...   \n",
       "4  http://pavel_kosenko.livejournal.com/671121.ht...   \n",
       "\n",
       "                                                text  insult labels  \\\n",
       "0  первая обработанная вами фотка ну совсем не нр...       0          \n",
       "1                                павел  мне нравится       0          \n",
       "2  ухудшайзер соответствует названию  за упражнен...       0          \n",
       "3                а может она только что из бани была       0          \n",
       "4  я в основном в чб редактирую фотографии  ибо ц...       0          \n",
       "\n",
       "                           debug_threshold  \n",
       "0  ((__label__ins,), [1.0000100135803223])  \n",
       "1  ((__label__ins,), [1.0000100135803223])  \n",
       "2  ((__label__ins,), [0.9996300339698792])  \n",
       "3  ((__label__ins,), [1.0000100135803223])  \n",
       "4   ((__label__ins,), [0.998142421245575])  "
      ],
      "text/html": "<div>\n<style scoped>\n    .dataframe tbody tr th:only-of-type {\n        vertical-align: middle;\n    }\n\n    .dataframe tbody tr th {\n        vertical-align: top;\n    }\n\n    .dataframe thead th {\n        text-align: right;\n    }\n</style>\n<table border=\"1\" class=\"dataframe\">\n  <thead>\n    <tr style=\"text-align: right;\">\n      <th></th>\n      <th>id</th>\n      <th>text</th>\n      <th>insult</th>\n      <th>labels</th>\n      <th>debug_threshold</th>\n    </tr>\n  </thead>\n  <tbody>\n    <tr>\n      <th>0</th>\n      <td>http://pavel_kosenko.livejournal.com/671121.ht...</td>\n      <td>первая обработанная вами фотка ну совсем не нр...</td>\n      <td>0</td>\n      <td></td>\n      <td>((__label__ins,), [1.0000100135803223])</td>\n    </tr>\n    <tr>\n      <th>1</th>\n      <td>http://pavel_kosenko.livejournal.com/671121.ht...</td>\n      <td>павел  мне нравится</td>\n      <td>0</td>\n      <td></td>\n      <td>((__label__ins,), [1.0000100135803223])</td>\n    </tr>\n    <tr>\n      <th>2</th>\n      <td>http://pavel_kosenko.livejournal.com/671121.ht...</td>\n      <td>ухудшайзер соответствует названию  за упражнен...</td>\n      <td>0</td>\n      <td></td>\n      <td>((__label__ins,), [0.9996300339698792])</td>\n    </tr>\n    <tr>\n      <th>3</th>\n      <td>http://pavel_kosenko.livejournal.com/671121.ht...</td>\n      <td>а может она только что из бани была</td>\n      <td>0</td>\n      <td></td>\n      <td>((__label__ins,), [1.0000100135803223])</td>\n    </tr>\n    <tr>\n      <th>4</th>\n      <td>http://pavel_kosenko.livejournal.com/671121.ht...</td>\n      <td>я в основном в чб редактирую фотографии  ибо ц...</td>\n      <td>0</td>\n      <td></td>\n      <td>((__label__ins,), [0.998142421245575])</td>\n    </tr>\n  </tbody>\n</table>\n</div>"
     },
     "metadata": {},
     "execution_count": 55
    }
   ],
   "source": [
    "train_df.head()"
   ]
  },
  {
   "cell_type": "code",
   "execution_count": 56,
   "metadata": {
    "execution": {
     "iopub.execute_input": "2020-12-02T17:00:16.175269Z",
     "iopub.status.busy": "2020-12-02T17:00:16.174333Z",
     "iopub.status.idle": "2020-12-02T17:00:16.178803Z",
     "shell.execute_reply": "2020-12-02T17:00:16.178038Z"
    },
    "papermill": {
     "duration": 0.18402,
     "end_time": "2020-12-02T17:00:16.178932",
     "exception": false,
     "start_time": "2020-12-02T17:00:15.994912",
     "status": "completed"
    },
    "tags": []
   },
   "outputs": [
    {
     "output_type": "execute_result",
     "data": {
      "text/plain": [
       "(('__label__ins',), array([1.00001001]))"
      ]
     },
     "metadata": {},
     "execution_count": 56
    }
   ],
   "source": [
    "model.predict(\"ты молодец\",k=1)"
   ]
  },
  {
   "cell_type": "code",
   "execution_count": 57,
   "metadata": {
    "execution": {
     "iopub.execute_input": "2020-12-02T17:00:16.534673Z",
     "iopub.status.busy": "2020-12-02T17:00:16.533860Z",
     "iopub.status.idle": "2020-12-02T17:00:16.537978Z",
     "shell.execute_reply": "2020-12-02T17:00:16.537200Z"
    },
    "papermill": {
     "duration": 0.184717,
     "end_time": "2020-12-02T17:00:16.538107",
     "exception": false,
     "start_time": "2020-12-02T17:00:16.353390",
     "status": "completed"
    },
    "tags": []
   },
   "outputs": [],
   "source": [
    "def get_proba(x,col):\n",
    "    for label in range(len(x[0])):\n",
    "        if label_mapping[col] == x[0][label]:\n",
    "            return x[1][label]"
   ]
  },
  {
   "cell_type": "code",
   "execution_count": 58,
   "metadata": {
    "execution": {
     "iopub.execute_input": "2020-12-02T17:00:16.894138Z",
     "iopub.status.busy": "2020-12-02T17:00:16.893332Z",
     "iopub.status.idle": "2020-12-02T17:01:30.024630Z",
     "shell.execute_reply": "2020-12-02T17:01:30.023653Z"
    },
    "papermill": {
     "duration": 73.314213,
     "end_time": "2020-12-02T17:01:30.024816",
     "exception": false,
     "start_time": "2020-12-02T17:00:16.710603",
     "status": "completed"
    },
    "tags": []
   },
   "outputs": [],
   "source": [
    "for label in label_mapping.keys():\n",
    "    train_df[label+'_predict']=train_df['text'].apply(lambda x: get_proba(model.predict(x,k=-1),label))\n",
    "    sz = train_df[label+'_predict'].size-1\n",
    "    train_df[label+'_sz'] = train_df[label+'_predict'].rank(method='max').apply(lambda x: 100.0*(x-1)/sz)"
   ]
  },
  {
   "cell_type": "code",
   "execution_count": 59,
   "metadata": {
    "execution": {
     "iopub.execute_input": "2020-12-02T17:01:30.401964Z",
     "iopub.status.busy": "2020-12-02T17:01:30.401156Z",
     "iopub.status.idle": "2020-12-02T17:01:30.510011Z",
     "shell.execute_reply": "2020-12-02T17:01:30.509303Z"
    },
    "papermill": {
     "duration": 0.297065,
     "end_time": "2020-12-02T17:01:30.510140",
     "exception": false,
     "start_time": "2020-12-02T17:01:30.213075",
     "status": "completed"
    },
    "tags": []
   },
   "outputs": [
    {
     "output_type": "stream",
     "name": "stdout",
     "text": [
      "insult 2.55 %\ninsult 0.0 %\n"
     ]
    }
   ],
   "source": [
    "for label in label_mapping.keys():\n",
    "    print(label,round(train_df[train_df[label]==1].shape[0]*100/train_df.shape[0],2),'%')\n",
    "for label in label_mapping.keys():\n",
    "    print(label,round(train_df[train_df[label+'_predict']==1].shape[0]*100/train_df.shape[0],2),'%')"
   ]
  },
  {
   "cell_type": "code",
   "execution_count": 24,
   "metadata": {
    "execution": {
     "iopub.execute_input": "2020-12-02T17:01:30.864881Z",
     "iopub.status.busy": "2020-12-02T17:01:30.863851Z",
     "iopub.status.idle": "2020-12-02T17:01:30.868617Z",
     "shell.execute_reply": "2020-12-02T17:01:30.867955Z"
    },
    "papermill": {
     "duration": 0.184149,
     "end_time": "2020-12-02T17:01:30.868743",
     "exception": false,
     "start_time": "2020-12-02T17:01:30.684594",
     "status": "completed"
    },
    "tags": []
   },
   "outputs": [
    {
     "output_type": "execute_result",
     "data": {
      "text/plain": [
       "Index(['id', 'text', 'insult', 'labels', 'debug_threshold', 'insult_predict',\n",
       "       'insult_sz', 'not insult_predict', 'not insult_sz'],\n",
       "      dtype='object')"
      ]
     },
     "metadata": {},
     "execution_count": 24
    }
   ],
   "source": [
    "train_df.columns"
   ]
  },
  {
   "cell_type": "code",
   "execution_count": 60,
   "metadata": {
    "execution": {
     "iopub.execute_input": "2020-12-02T17:01:31.278813Z",
     "iopub.status.busy": "2020-12-02T17:01:31.277989Z",
     "iopub.status.idle": "2020-12-02T17:01:31.284582Z",
     "shell.execute_reply": "2020-12-02T17:01:31.283891Z"
    },
    "papermill": {
     "duration": 0.237831,
     "end_time": "2020-12-02T17:01:31.284710",
     "exception": false,
     "start_time": "2020-12-02T17:01:31.046879",
     "status": "completed"
    },
    "tags": []
   },
   "outputs": [
    {
     "output_type": "execute_result",
     "data": {
      "text/plain": [
       "                                                  id  \\\n",
       "0  http://pavel_kosenko.livejournal.com/671121.ht...   \n",
       "1  http://pavel_kosenko.livejournal.com/671121.ht...   \n",
       "2  http://pavel_kosenko.livejournal.com/671121.ht...   \n",
       "3  http://pavel_kosenko.livejournal.com/671121.ht...   \n",
       "4  http://pavel_kosenko.livejournal.com/671121.ht...   \n",
       "5  http://pavel_kosenko.livejournal.com/671121.ht...   \n",
       "6  http://pavel_kosenko.livejournal.com/671121.ht...   \n",
       "7  http://pavel_kosenko.livejournal.com/671121.ht...   \n",
       "8  http://pavel_kosenko.livejournal.com/671121.ht...   \n",
       "9  http://pavel_kosenko.livejournal.com/671121.ht...   \n",
       "\n",
       "                                                text  insult labels  \\\n",
       "0  первая обработанная вами фотка ну совсем не нр...       0          \n",
       "1                                павел  мне нравится       0          \n",
       "2  ухудшайзер соответствует названию  за упражнен...       0          \n",
       "3                а может она только что из бани была       0          \n",
       "4  я в основном в чб редактирую фотографии  ибо ц...       0          \n",
       "5               а правильное сканирование  оно какое       0          \n",
       "6  тем  кому не нравится первый пример достаточно...       0          \n",
       "7  вот мне интересно  а если бы я делал отпечаток...       0          \n",
       "8  результат после плагина мне нравится  в vsco с...       0          \n",
       "9  первая ок  а вот на второй девушка после вашей...       0          \n",
       "\n",
       "                           debug_threshold  insult_predict   insult_sz  \n",
       "0  ((__label__ins,), [1.0000100135803223])        1.000010  100.000000  \n",
       "1  ((__label__ins,), [1.0000100135803223])        1.000010  100.000000  \n",
       "2  ((__label__ins,), [0.9996300339698792])        0.999630   47.082825  \n",
       "3  ((__label__ins,), [1.0000100135803223])        1.000010  100.000000  \n",
       "4   ((__label__ins,), [0.998142421245575])        0.998142   35.695304  \n",
       "5  ((__label__ins,), [1.0000100135803223])        1.000010  100.000000  \n",
       "6  ((__label__ins,), [0.9967369437217712])        0.996737   31.102869  \n",
       "7  ((__label__ins,), [0.9263137578964233])        0.926314    2.123073  \n",
       "8  ((__label__ins,), [0.9697954058647156])        0.969795    9.636782  \n",
       "9   ((__label__ins,), [0.960371196269989])        0.960371    7.102792  "
      ],
      "text/html": "<div>\n<style scoped>\n    .dataframe tbody tr th:only-of-type {\n        vertical-align: middle;\n    }\n\n    .dataframe tbody tr th {\n        vertical-align: top;\n    }\n\n    .dataframe thead th {\n        text-align: right;\n    }\n</style>\n<table border=\"1\" class=\"dataframe\">\n  <thead>\n    <tr style=\"text-align: right;\">\n      <th></th>\n      <th>id</th>\n      <th>text</th>\n      <th>insult</th>\n      <th>labels</th>\n      <th>debug_threshold</th>\n      <th>insult_predict</th>\n      <th>insult_sz</th>\n    </tr>\n  </thead>\n  <tbody>\n    <tr>\n      <th>0</th>\n      <td>http://pavel_kosenko.livejournal.com/671121.ht...</td>\n      <td>первая обработанная вами фотка ну совсем не нр...</td>\n      <td>0</td>\n      <td></td>\n      <td>((__label__ins,), [1.0000100135803223])</td>\n      <td>1.000010</td>\n      <td>100.000000</td>\n    </tr>\n    <tr>\n      <th>1</th>\n      <td>http://pavel_kosenko.livejournal.com/671121.ht...</td>\n      <td>павел  мне нравится</td>\n      <td>0</td>\n      <td></td>\n      <td>((__label__ins,), [1.0000100135803223])</td>\n      <td>1.000010</td>\n      <td>100.000000</td>\n    </tr>\n    <tr>\n      <th>2</th>\n      <td>http://pavel_kosenko.livejournal.com/671121.ht...</td>\n      <td>ухудшайзер соответствует названию  за упражнен...</td>\n      <td>0</td>\n      <td></td>\n      <td>((__label__ins,), [0.9996300339698792])</td>\n      <td>0.999630</td>\n      <td>47.082825</td>\n    </tr>\n    <tr>\n      <th>3</th>\n      <td>http://pavel_kosenko.livejournal.com/671121.ht...</td>\n      <td>а может она только что из бани была</td>\n      <td>0</td>\n      <td></td>\n      <td>((__label__ins,), [1.0000100135803223])</td>\n      <td>1.000010</td>\n      <td>100.000000</td>\n    </tr>\n    <tr>\n      <th>4</th>\n      <td>http://pavel_kosenko.livejournal.com/671121.ht...</td>\n      <td>я в основном в чб редактирую фотографии  ибо ц...</td>\n      <td>0</td>\n      <td></td>\n      <td>((__label__ins,), [0.998142421245575])</td>\n      <td>0.998142</td>\n      <td>35.695304</td>\n    </tr>\n    <tr>\n      <th>5</th>\n      <td>http://pavel_kosenko.livejournal.com/671121.ht...</td>\n      <td>а правильное сканирование  оно какое</td>\n      <td>0</td>\n      <td></td>\n      <td>((__label__ins,), [1.0000100135803223])</td>\n      <td>1.000010</td>\n      <td>100.000000</td>\n    </tr>\n    <tr>\n      <th>6</th>\n      <td>http://pavel_kosenko.livejournal.com/671121.ht...</td>\n      <td>тем  кому не нравится первый пример достаточно...</td>\n      <td>0</td>\n      <td></td>\n      <td>((__label__ins,), [0.9967369437217712])</td>\n      <td>0.996737</td>\n      <td>31.102869</td>\n    </tr>\n    <tr>\n      <th>7</th>\n      <td>http://pavel_kosenko.livejournal.com/671121.ht...</td>\n      <td>вот мне интересно  а если бы я делал отпечаток...</td>\n      <td>0</td>\n      <td></td>\n      <td>((__label__ins,), [0.9263137578964233])</td>\n      <td>0.926314</td>\n      <td>2.123073</td>\n    </tr>\n    <tr>\n      <th>8</th>\n      <td>http://pavel_kosenko.livejournal.com/671121.ht...</td>\n      <td>результат после плагина мне нравится  в vsco с...</td>\n      <td>0</td>\n      <td></td>\n      <td>((__label__ins,), [0.9697954058647156])</td>\n      <td>0.969795</td>\n      <td>9.636782</td>\n    </tr>\n    <tr>\n      <th>9</th>\n      <td>http://pavel_kosenko.livejournal.com/671121.ht...</td>\n      <td>первая ок  а вот на второй девушка после вашей...</td>\n      <td>0</td>\n      <td></td>\n      <td>((__label__ins,), [0.960371196269989])</td>\n      <td>0.960371</td>\n      <td>7.102792</td>\n    </tr>\n  </tbody>\n</table>\n</div>"
     },
     "metadata": {},
     "execution_count": 60
    }
   ],
   "source": [
    "train_df.head(10)"
   ]
  },
  {
   "cell_type": "code",
   "execution_count": 61,
   "metadata": {
    "execution": {
     "iopub.execute_input": "2020-12-02T17:01:31.658633Z",
     "iopub.status.busy": "2020-12-02T17:01:31.657808Z",
     "iopub.status.idle": "2020-12-02T17:01:31.825519Z",
     "shell.execute_reply": "2020-12-02T17:01:31.824825Z"
    },
    "papermill": {
     "duration": 0.36185,
     "end_time": "2020-12-02T17:01:31.825649",
     "exception": false,
     "start_time": "2020-12-02T17:01:31.463799",
     "status": "completed"
    },
    "tags": []
   },
   "outputs": [
    {
     "output_type": "execute_result",
     "data": {
      "text/plain": [
       "              insult  insult_predict      insult_sz\n",
       "count  207342.000000   207342.000000  207342.000000\n",
       "mean        0.025533        0.991706      63.812561\n",
       "std         0.157737        0.018489      39.161051\n",
       "min         0.000000        0.749097       0.000482\n",
       "25%         0.000000        0.993720      25.010008\n",
       "50%         0.000000        1.000010     100.000000\n",
       "75%         0.000000        1.000010     100.000000\n",
       "max         1.000000        1.000010     100.000000"
      ],
      "text/html": "<div>\n<style scoped>\n    .dataframe tbody tr th:only-of-type {\n        vertical-align: middle;\n    }\n\n    .dataframe tbody tr th {\n        vertical-align: top;\n    }\n\n    .dataframe thead th {\n        text-align: right;\n    }\n</style>\n<table border=\"1\" class=\"dataframe\">\n  <thead>\n    <tr style=\"text-align: right;\">\n      <th></th>\n      <th>insult</th>\n      <th>insult_predict</th>\n      <th>insult_sz</th>\n    </tr>\n  </thead>\n  <tbody>\n    <tr>\n      <th>count</th>\n      <td>207342.000000</td>\n      <td>207342.000000</td>\n      <td>207342.000000</td>\n    </tr>\n    <tr>\n      <th>mean</th>\n      <td>0.025533</td>\n      <td>0.991706</td>\n      <td>63.812561</td>\n    </tr>\n    <tr>\n      <th>std</th>\n      <td>0.157737</td>\n      <td>0.018489</td>\n      <td>39.161051</td>\n    </tr>\n    <tr>\n      <th>min</th>\n      <td>0.000000</td>\n      <td>0.749097</td>\n      <td>0.000482</td>\n    </tr>\n    <tr>\n      <th>25%</th>\n      <td>0.000000</td>\n      <td>0.993720</td>\n      <td>25.010008</td>\n    </tr>\n    <tr>\n      <th>50%</th>\n      <td>0.000000</td>\n      <td>1.000010</td>\n      <td>100.000000</td>\n    </tr>\n    <tr>\n      <th>75%</th>\n      <td>0.000000</td>\n      <td>1.000010</td>\n      <td>100.000000</td>\n    </tr>\n    <tr>\n      <th>max</th>\n      <td>1.000000</td>\n      <td>1.000010</td>\n      <td>100.000000</td>\n    </tr>\n  </tbody>\n</table>\n</div>"
     },
     "metadata": {},
     "execution_count": 61
    }
   ],
   "source": [
    "train_df.describe()"
   ]
  },
  {
   "cell_type": "code",
   "execution_count": 35,
   "metadata": {
    "execution": {
     "iopub.execute_input": "2020-12-02T17:01:32.189942Z",
     "iopub.status.busy": "2020-12-02T17:01:32.189107Z",
     "iopub.status.idle": "2020-12-02T17:01:32.274488Z",
     "shell.execute_reply": "2020-12-02T17:01:32.273656Z"
    },
    "papermill": {
     "duration": 0.272739,
     "end_time": "2020-12-02T17:01:32.274620",
     "exception": false,
     "start_time": "2020-12-02T17:01:32.001881",
     "status": "completed"
    },
    "tags": []
   },
   "outputs": [
    {
     "output_type": "execute_result",
     "data": {
      "text/plain": [
       "       insult  insult_predict    insult_sz\n",
       "count  5294.0     5294.000000  5294.000000\n",
       "mean      1.0        0.992457    63.763662\n",
       "std       0.0        0.016755    38.036987\n",
       "min       1.0        0.867046     0.140831\n",
       "25%       1.0        0.994280    27.292721\n",
       "50%       1.0        1.000010   100.000000\n",
       "75%       1.0        1.000010   100.000000\n",
       "max       1.0        1.000010   100.000000"
      ],
      "text/html": "<div>\n<style scoped>\n    .dataframe tbody tr th:only-of-type {\n        vertical-align: middle;\n    }\n\n    .dataframe tbody tr th {\n        vertical-align: top;\n    }\n\n    .dataframe thead th {\n        text-align: right;\n    }\n</style>\n<table border=\"1\" class=\"dataframe\">\n  <thead>\n    <tr style=\"text-align: right;\">\n      <th></th>\n      <th>insult</th>\n      <th>insult_predict</th>\n      <th>insult_sz</th>\n    </tr>\n  </thead>\n  <tbody>\n    <tr>\n      <th>count</th>\n      <td>5294.0</td>\n      <td>5294.000000</td>\n      <td>5294.000000</td>\n    </tr>\n    <tr>\n      <th>mean</th>\n      <td>1.0</td>\n      <td>0.992457</td>\n      <td>63.763662</td>\n    </tr>\n    <tr>\n      <th>std</th>\n      <td>0.0</td>\n      <td>0.016755</td>\n      <td>38.036987</td>\n    </tr>\n    <tr>\n      <th>min</th>\n      <td>1.0</td>\n      <td>0.867046</td>\n      <td>0.140831</td>\n    </tr>\n    <tr>\n      <th>25%</th>\n      <td>1.0</td>\n      <td>0.994280</td>\n      <td>27.292721</td>\n    </tr>\n    <tr>\n      <th>50%</th>\n      <td>1.0</td>\n      <td>1.000010</td>\n      <td>100.000000</td>\n    </tr>\n    <tr>\n      <th>75%</th>\n      <td>1.0</td>\n      <td>1.000010</td>\n      <td>100.000000</td>\n    </tr>\n    <tr>\n      <th>max</th>\n      <td>1.0</td>\n      <td>1.000010</td>\n      <td>100.000000</td>\n    </tr>\n  </tbody>\n</table>\n</div>"
     },
     "metadata": {},
     "execution_count": 35
    }
   ],
   "source": [
    "train_df[train_df['insult'] == 1].describe()"
   ]
  },
  {
   "cell_type": "code",
   "execution_count": 36,
   "metadata": {
    "execution": {
     "iopub.execute_input": "2020-12-02T17:01:32.639507Z",
     "iopub.status.busy": "2020-12-02T17:01:32.638442Z",
     "iopub.status.idle": "2020-12-02T17:01:32.644335Z",
     "shell.execute_reply": "2020-12-02T17:01:32.643642Z"
    },
    "papermill": {
     "duration": 0.192745,
     "end_time": "2020-12-02T17:01:32.644474",
     "exception": false,
     "start_time": "2020-12-02T17:01:32.451729",
     "status": "completed"
    },
    "tags": []
   },
   "outputs": [
    {
     "output_type": "execute_result",
     "data": {
      "text/plain": [
       "                                                  id  \\\n",
       "0  http://kruzenwtern.livejournal.com/373788.html...   \n",
       "1  http://kruzenwtern.livejournal.com/373788.html...   \n",
       "2  http://kruzenwtern.livejournal.com/373788.html...   \n",
       "3  http://kruzenwtern.livejournal.com/373788.html...   \n",
       "4  http://kruzenwtern.livejournal.com/373788.html...   \n",
       "\n",
       "                                                text  \n",
       "0  познавательно ушел смотреть свой пост с рулетк...  \n",
       "1                               вместительная машина  \n",
       "2  извините  ребята  а как давно начали так пиари...  \n",
       "3                   а что за каска такая симпатичная  \n",
       "4                       да  богатый на емкость сарай  "
      ],
      "text/html": "<div>\n<style scoped>\n    .dataframe tbody tr th:only-of-type {\n        vertical-align: middle;\n    }\n\n    .dataframe tbody tr th {\n        vertical-align: top;\n    }\n\n    .dataframe thead th {\n        text-align: right;\n    }\n</style>\n<table border=\"1\" class=\"dataframe\">\n  <thead>\n    <tr style=\"text-align: right;\">\n      <th></th>\n      <th>id</th>\n      <th>text</th>\n    </tr>\n  </thead>\n  <tbody>\n    <tr>\n      <th>0</th>\n      <td>http://kruzenwtern.livejournal.com/373788.html...</td>\n      <td>познавательно ушел смотреть свой пост с рулетк...</td>\n    </tr>\n    <tr>\n      <th>1</th>\n      <td>http://kruzenwtern.livejournal.com/373788.html...</td>\n      <td>вместительная машина</td>\n    </tr>\n    <tr>\n      <th>2</th>\n      <td>http://kruzenwtern.livejournal.com/373788.html...</td>\n      <td>извините  ребята  а как давно начали так пиари...</td>\n    </tr>\n    <tr>\n      <th>3</th>\n      <td>http://kruzenwtern.livejournal.com/373788.html...</td>\n      <td>а что за каска такая симпатичная</td>\n    </tr>\n    <tr>\n      <th>4</th>\n      <td>http://kruzenwtern.livejournal.com/373788.html...</td>\n      <td>да  богатый на емкость сарай</td>\n    </tr>\n  </tbody>\n</table>\n</div>"
     },
     "metadata": {},
     "execution_count": 36
    }
   ],
   "source": [
    "test_df.head()"
   ]
  },
  {
   "cell_type": "code",
   "execution_count": 27,
   "metadata": {
    "execution": {
     "iopub.execute_input": "2020-12-02T17:01:33.016470Z",
     "iopub.status.busy": "2020-12-02T17:01:33.015588Z",
     "iopub.status.idle": "2020-12-02T17:01:33.227622Z",
     "shell.execute_reply": "2020-12-02T17:01:33.226852Z"
    },
    "papermill": {
     "duration": 0.399966,
     "end_time": "2020-12-02T17:01:33.227767",
     "exception": false,
     "start_time": "2020-12-02T17:01:32.827801",
     "status": "completed"
    },
    "tags": []
   },
   "outputs": [
    {
     "output_type": "execute_result",
     "data": {
      "text/plain": [
       "        insult  not insult  insult_predict     insult_sz  not insult_predict  \\\n",
       "count  16680.0     16680.0    16680.000000  16680.000000        16680.000000   \n",
       "mean       0.0         1.0        0.003432     61.378256            0.996498   \n",
       "std        0.0         0.0        0.008098     16.913239            0.008330   \n",
       "min        0.0         1.0        0.000010     48.054239            0.484390   \n",
       "20%        0.0         1.0        0.000010     48.054239            0.994950   \n",
       "25%        0.0         1.0        0.000010     48.054239            0.996527   \n",
       "50%        0.0         1.0        0.000378     49.261382            0.999642   \n",
       "70%        0.0         1.0        0.002262     69.446588            1.000010   \n",
       "75%        0.0         1.0        0.003387     74.820858            1.000010   \n",
       "80%        0.0         1.0        0.004915     79.699041            1.000010   \n",
       "90%        0.0         1.0        0.010997     90.039687            1.000010   \n",
       "95%        0.0         1.0        0.017452     95.083232            1.000010   \n",
       "99%        0.0         1.0        0.033096     98.985779            1.000010   \n",
       "max        0.0         1.0        0.500010    100.000000            1.000010   \n",
       "\n",
       "       not insult_sz  \n",
       "count   16680.000000  \n",
       "mean       62.482520  \n",
       "std        38.490361  \n",
       "min         0.011024  \n",
       "20%        20.560026  \n",
       "25%        25.515379  \n",
       "50%        51.251240  \n",
       "70%       100.000000  \n",
       "75%       100.000000  \n",
       "80%       100.000000  \n",
       "90%       100.000000  \n",
       "95%       100.000000  \n",
       "99%       100.000000  \n",
       "max       100.000000  "
      ],
      "text/html": "<div>\n<style scoped>\n    .dataframe tbody tr th:only-of-type {\n        vertical-align: middle;\n    }\n\n    .dataframe tbody tr th {\n        vertical-align: top;\n    }\n\n    .dataframe thead th {\n        text-align: right;\n    }\n</style>\n<table border=\"1\" class=\"dataframe\">\n  <thead>\n    <tr style=\"text-align: right;\">\n      <th></th>\n      <th>insult</th>\n      <th>not insult</th>\n      <th>insult_predict</th>\n      <th>insult_sz</th>\n      <th>not insult_predict</th>\n      <th>not insult_sz</th>\n    </tr>\n  </thead>\n  <tbody>\n    <tr>\n      <th>count</th>\n      <td>16680.0</td>\n      <td>16680.0</td>\n      <td>16680.000000</td>\n      <td>16680.000000</td>\n      <td>16680.000000</td>\n      <td>16680.000000</td>\n    </tr>\n    <tr>\n      <th>mean</th>\n      <td>0.0</td>\n      <td>1.0</td>\n      <td>0.003432</td>\n      <td>61.378256</td>\n      <td>0.996498</td>\n      <td>62.482520</td>\n    </tr>\n    <tr>\n      <th>std</th>\n      <td>0.0</td>\n      <td>0.0</td>\n      <td>0.008098</td>\n      <td>16.913239</td>\n      <td>0.008330</td>\n      <td>38.490361</td>\n    </tr>\n    <tr>\n      <th>min</th>\n      <td>0.0</td>\n      <td>1.0</td>\n      <td>0.000010</td>\n      <td>48.054239</td>\n      <td>0.484390</td>\n      <td>0.011024</td>\n    </tr>\n    <tr>\n      <th>20%</th>\n      <td>0.0</td>\n      <td>1.0</td>\n      <td>0.000010</td>\n      <td>48.054239</td>\n      <td>0.994950</td>\n      <td>20.560026</td>\n    </tr>\n    <tr>\n      <th>25%</th>\n      <td>0.0</td>\n      <td>1.0</td>\n      <td>0.000010</td>\n      <td>48.054239</td>\n      <td>0.996527</td>\n      <td>25.515379</td>\n    </tr>\n    <tr>\n      <th>50%</th>\n      <td>0.0</td>\n      <td>1.0</td>\n      <td>0.000378</td>\n      <td>49.261382</td>\n      <td>0.999642</td>\n      <td>51.251240</td>\n    </tr>\n    <tr>\n      <th>70%</th>\n      <td>0.0</td>\n      <td>1.0</td>\n      <td>0.002262</td>\n      <td>69.446588</td>\n      <td>1.000010</td>\n      <td>100.000000</td>\n    </tr>\n    <tr>\n      <th>75%</th>\n      <td>0.0</td>\n      <td>1.0</td>\n      <td>0.003387</td>\n      <td>74.820858</td>\n      <td>1.000010</td>\n      <td>100.000000</td>\n    </tr>\n    <tr>\n      <th>80%</th>\n      <td>0.0</td>\n      <td>1.0</td>\n      <td>0.004915</td>\n      <td>79.699041</td>\n      <td>1.000010</td>\n      <td>100.000000</td>\n    </tr>\n    <tr>\n      <th>90%</th>\n      <td>0.0</td>\n      <td>1.0</td>\n      <td>0.010997</td>\n      <td>90.039687</td>\n      <td>1.000010</td>\n      <td>100.000000</td>\n    </tr>\n    <tr>\n      <th>95%</th>\n      <td>0.0</td>\n      <td>1.0</td>\n      <td>0.017452</td>\n      <td>95.083232</td>\n      <td>1.000010</td>\n      <td>100.000000</td>\n    </tr>\n    <tr>\n      <th>99%</th>\n      <td>0.0</td>\n      <td>1.0</td>\n      <td>0.033096</td>\n      <td>98.985779</td>\n      <td>1.000010</td>\n      <td>100.000000</td>\n    </tr>\n    <tr>\n      <th>max</th>\n      <td>0.0</td>\n      <td>1.0</td>\n      <td>0.500010</td>\n      <td>100.000000</td>\n      <td>1.000010</td>\n      <td>100.000000</td>\n    </tr>\n  </tbody>\n</table>\n</div>"
     },
     "metadata": {},
     "execution_count": 27
    }
   ],
   "source": [
    "train_df[train_df['insult']==0].describe([0.2,0.25,0.5,0.7,0.75,0.8,0.9,0.95,0.99])"
   ]
  },
  {
   "cell_type": "code",
   "execution_count": 38,
   "metadata": {
    "execution": {
     "iopub.execute_input": "2020-12-02T17:01:33.593308Z",
     "iopub.status.busy": "2020-12-02T17:01:33.592476Z",
     "iopub.status.idle": "2020-12-02T17:01:33.679642Z",
     "shell.execute_reply": "2020-12-02T17:01:33.678987Z"
    },
    "papermill": {
     "duration": 0.272217,
     "end_time": "2020-12-02T17:01:33.679791",
     "exception": false,
     "start_time": "2020-12-02T17:01:33.407574",
     "status": "completed"
    },
    "tags": []
   },
   "outputs": [
    {
     "output_type": "execute_result",
     "data": {
      "text/plain": [
       "       insult  insult_predict    insult_sz\n",
       "count  5294.0     5294.000000  5294.000000\n",
       "mean      1.0        0.992457    63.763662\n",
       "std       0.0        0.016755    38.036987\n",
       "min       1.0        0.867046     0.140831\n",
       "5%        1.0        0.953976     6.400567\n",
       "10%       1.0        0.974053    11.938787\n",
       "20%       1.0        0.990597    22.237763\n",
       "25%       1.0        0.994280    27.292721\n",
       "50%       1.0        1.000010   100.000000\n",
       "70%       1.0        1.000010   100.000000\n",
       "75%       1.0        1.000010   100.000000\n",
       "80%       1.0        1.000010   100.000000\n",
       "90%       1.0        1.000010   100.000000\n",
       "max       1.0        1.000010   100.000000"
      ],
      "text/html": "<div>\n<style scoped>\n    .dataframe tbody tr th:only-of-type {\n        vertical-align: middle;\n    }\n\n    .dataframe tbody tr th {\n        vertical-align: top;\n    }\n\n    .dataframe thead th {\n        text-align: right;\n    }\n</style>\n<table border=\"1\" class=\"dataframe\">\n  <thead>\n    <tr style=\"text-align: right;\">\n      <th></th>\n      <th>insult</th>\n      <th>insult_predict</th>\n      <th>insult_sz</th>\n    </tr>\n  </thead>\n  <tbody>\n    <tr>\n      <th>count</th>\n      <td>5294.0</td>\n      <td>5294.000000</td>\n      <td>5294.000000</td>\n    </tr>\n    <tr>\n      <th>mean</th>\n      <td>1.0</td>\n      <td>0.992457</td>\n      <td>63.763662</td>\n    </tr>\n    <tr>\n      <th>std</th>\n      <td>0.0</td>\n      <td>0.016755</td>\n      <td>38.036987</td>\n    </tr>\n    <tr>\n      <th>min</th>\n      <td>1.0</td>\n      <td>0.867046</td>\n      <td>0.140831</td>\n    </tr>\n    <tr>\n      <th>5%</th>\n      <td>1.0</td>\n      <td>0.953976</td>\n      <td>6.400567</td>\n    </tr>\n    <tr>\n      <th>10%</th>\n      <td>1.0</td>\n      <td>0.974053</td>\n      <td>11.938787</td>\n    </tr>\n    <tr>\n      <th>20%</th>\n      <td>1.0</td>\n      <td>0.990597</td>\n      <td>22.237763</td>\n    </tr>\n    <tr>\n      <th>25%</th>\n      <td>1.0</td>\n      <td>0.994280</td>\n      <td>27.292721</td>\n    </tr>\n    <tr>\n      <th>50%</th>\n      <td>1.0</td>\n      <td>1.000010</td>\n      <td>100.000000</td>\n    </tr>\n    <tr>\n      <th>70%</th>\n      <td>1.0</td>\n      <td>1.000010</td>\n      <td>100.000000</td>\n    </tr>\n    <tr>\n      <th>75%</th>\n      <td>1.0</td>\n      <td>1.000010</td>\n      <td>100.000000</td>\n    </tr>\n    <tr>\n      <th>80%</th>\n      <td>1.0</td>\n      <td>1.000010</td>\n      <td>100.000000</td>\n    </tr>\n    <tr>\n      <th>90%</th>\n      <td>1.0</td>\n      <td>1.000010</td>\n      <td>100.000000</td>\n    </tr>\n    <tr>\n      <th>max</th>\n      <td>1.0</td>\n      <td>1.000010</td>\n      <td>100.000000</td>\n    </tr>\n  </tbody>\n</table>\n</div>"
     },
     "metadata": {},
     "execution_count": 38
    }
   ],
   "source": [
    "train_df[train_df['insult']==1].describe([0.05,0.1,0.2,0.25,0.5,0.7,0.75,0.8,0.9])"
   ]
  },
  {
   "cell_type": "code",
   "execution_count": 64,
   "metadata": {
    "execution": {
     "iopub.execute_input": "2020-12-02T17:01:34.046124Z",
     "iopub.status.busy": "2020-12-02T17:01:34.045239Z",
     "iopub.status.idle": "2020-12-02T17:01:34.049638Z",
     "shell.execute_reply": "2020-12-02T17:01:34.048929Z"
    },
    "papermill": {
     "duration": 0.190077,
     "end_time": "2020-12-02T17:01:34.049799",
     "exception": false,
     "start_time": "2020-12-02T17:01:33.859722",
     "status": "completed"
    },
    "tags": []
   },
   "outputs": [],
   "source": [
    "# threshold = {\n",
    "#     'toxic_predict' : 0.970,\n",
    "#     'severe_toxic_predict' : 0.27,\n",
    "#     'obscene_predict': 0.69,\n",
    "#     'threat_predict': 0.16,\n",
    "#     'insult_predict':0.7,\n",
    "#     'identity_hate_predict': 0.38\n",
    "# }\n",
    "\n",
    "threshold = {\n",
    "    'insult_predict':0.98\n",
    "}"
   ]
  },
  {
   "cell_type": "code",
   "execution_count": 65,
   "metadata": {
    "execution": {
     "iopub.execute_input": "2020-12-02T17:01:34.421185Z",
     "iopub.status.busy": "2020-12-02T17:01:34.420019Z",
     "iopub.status.idle": "2020-12-02T17:01:34.424422Z",
     "shell.execute_reply": "2020-12-02T17:01:34.423645Z"
    },
    "papermill": {
     "duration": 0.192789,
     "end_time": "2020-12-02T17:01:34.424567",
     "exception": false,
     "start_time": "2020-12-02T17:01:34.231778",
     "status": "completed"
    },
    "tags": []
   },
   "outputs": [],
   "source": [
    "def rescale_prob(x,label):\n",
    "    min = 0\n",
    "    max = 0.5\n",
    "    if x < threshold[label]:\n",
    "        normalized_x = (0.5 * (x - min))/(threshold[label] - min)\n",
    "    else:\n",
    "        normalized_x = 0.5 +(0.5 * (x - min))/(1 - min)\n",
    "    return normalized_x"
   ]
  },
  {
   "cell_type": "code",
   "execution_count": 40,
   "metadata": {
    "execution": {
     "iopub.execute_input": "2020-12-02T17:01:34.795395Z",
     "iopub.status.busy": "2020-12-02T17:01:34.794632Z",
     "iopub.status.idle": "2020-12-02T17:01:34.799030Z",
     "shell.execute_reply": "2020-12-02T17:01:34.798389Z"
    },
    "papermill": {
     "duration": 0.189248,
     "end_time": "2020-12-02T17:01:34.799167",
     "exception": false,
     "start_time": "2020-12-02T17:01:34.609919",
     "status": "completed"
    },
    "tags": []
   },
   "outputs": [],
   "source": [
    "# x = 0.5\n",
    "# min = 0\n",
    "# max = 0.5\n",
    "# 0.5 + (0.5 * (x - min))/(0.9 - min)"
   ]
  },
  {
   "cell_type": "code",
   "execution_count": 66,
   "metadata": {
    "execution": {
     "iopub.execute_input": "2020-12-02T17:01:35.234235Z",
     "iopub.status.busy": "2020-12-02T17:01:35.233439Z",
     "iopub.status.idle": "2020-12-02T17:02:52.175706Z",
     "shell.execute_reply": "2020-12-02T17:02:52.176494Z"
    },
    "papermill": {
     "duration": 77.170238,
     "end_time": "2020-12-02T17:02:52.176758",
     "exception": false,
     "start_time": "2020-12-02T17:01:35.006520",
     "status": "completed"
    },
    "tags": []
   },
   "outputs": [],
   "source": [
    "for label in label_mapping.keys():\n",
    "    train_df[label+'_predict']=train_df['text'].apply(lambda x: get_proba(model.predict(x,k=-1),label))\n",
    "    train_df[label+'_prob'] = train_df[label+'_predict'].apply(lambda x: rescale_prob(x,label+'_predict'))\n",
    "    train_df[label+'_pred'] = train_df[label+'_predict'].apply(lambda x: 1 if x >= threshold[label+'_predict'] else 0)"
   ]
  },
  {
   "cell_type": "code",
   "execution_count": 42,
   "metadata": {
    "execution": {
     "iopub.execute_input": "2020-12-02T17:02:52.547249Z",
     "iopub.status.busy": "2020-12-02T17:02:52.546236Z",
     "iopub.status.idle": "2020-12-02T17:02:52.550677Z",
     "shell.execute_reply": "2020-12-02T17:02:52.549806Z"
    },
    "papermill": {
     "duration": 0.189622,
     "end_time": "2020-12-02T17:02:52.550816",
     "exception": false,
     "start_time": "2020-12-02T17:02:52.361194",
     "status": "completed"
    },
    "tags": []
   },
   "outputs": [],
   "source": [
    "# rescale_prob(0.5,'severe_toxic_predict')"
   ]
  },
  {
   "cell_type": "code",
   "execution_count": 47,
   "metadata": {
    "execution": {
     "iopub.execute_input": "2020-12-02T17:02:54.534328Z",
     "iopub.status.busy": "2020-12-02T17:02:54.533532Z",
     "iopub.status.idle": "2020-12-02T17:02:54.537843Z",
     "shell.execute_reply": "2020-12-02T17:02:54.537062Z"
    },
    "papermill": {
     "duration": 0.192074,
     "end_time": "2020-12-02T17:02:54.537973",
     "exception": false,
     "start_time": "2020-12-02T17:02:54.345899",
     "status": "completed"
    },
    "tags": []
   },
   "outputs": [],
   "source": [
    "# x=0.8\n",
    "# min = 0\n",
    "# max = 0.5\n",
    "# (0.5 * (x - min))/(0.9 - min)"
   ]
  },
  {
   "cell_type": "code",
   "execution_count": 48,
   "metadata": {
    "execution": {
     "iopub.execute_input": "2020-12-02T17:02:54.912674Z",
     "iopub.status.busy": "2020-12-02T17:02:54.911879Z",
     "iopub.status.idle": "2020-12-02T17:02:54.915479Z",
     "shell.execute_reply": "2020-12-02T17:02:54.914811Z"
    },
    "papermill": {
     "duration": 0.191659,
     "end_time": "2020-12-02T17:02:54.915613",
     "exception": false,
     "start_time": "2020-12-02T17:02:54.723954",
     "status": "completed"
    },
    "tags": []
   },
   "outputs": [],
   "source": [
    "# x=0.8\n",
    "# min = 0.5\n",
    "# max = 1\n",
    "# (0.5 * (x - min))/(0.8 - min)"
   ]
  },
  {
   "cell_type": "code",
   "execution_count": 67,
   "metadata": {
    "execution": {
     "iopub.execute_input": "2020-12-02T17:02:55.321852Z",
     "iopub.status.busy": "2020-12-02T17:02:55.308591Z",
     "iopub.status.idle": "2020-12-02T17:03:59.169931Z",
     "shell.execute_reply": "2020-12-02T17:03:59.169090Z"
    },
    "papermill": {
     "duration": 64.062455,
     "end_time": "2020-12-02T17:03:59.170069",
     "exception": false,
     "start_time": "2020-12-02T17:02:55.107614",
     "status": "completed"
    },
    "tags": []
   },
   "outputs": [],
   "source": [
    "for label in label_mapping.keys():\n",
    "    test_df[label+'_predict']=test_df['text'].apply(lambda x: get_proba(model.predict(x,k=-1),label))\n",
    "    test_df[label] = test_df[label+'_predict'].apply(lambda x: rescale_prob(x,label+'_predict'))"
   ]
  },
  {
   "cell_type": "code",
   "execution_count": 35,
   "metadata": {
    "execution": {
     "iopub.execute_input": "2020-12-02T17:03:59.548953Z",
     "iopub.status.busy": "2020-12-02T17:03:59.548094Z",
     "iopub.status.idle": "2020-12-02T17:04:10.370574Z",
     "shell.execute_reply": "2020-12-02T17:04:10.369796Z"
    },
    "papermill": {
     "duration": 11.013978,
     "end_time": "2020-12-02T17:04:10.370742",
     "exception": false,
     "start_time": "2020-12-02T17:03:59.356764",
     "status": "completed"
    },
    "tags": []
   },
   "outputs": [],
   "source": [
    "test_df[sample_submission_df.columns].to_csv('submission.csv',index=False,encoding='utf-8')\n",
    "test_df.to_csv('all_cols_submission.csv', index=False,encoding='utf-8')"
   ]
  },
  {
   "cell_type": "code",
   "execution_count": 36,
   "metadata": {
    "execution": {
     "iopub.execute_input": "2020-12-02T17:04:10.772851Z",
     "iopub.status.busy": "2020-12-02T17:04:10.771348Z",
     "iopub.status.idle": "2020-12-02T17:04:10.780076Z",
     "shell.execute_reply": "2020-12-02T17:04:10.779309Z"
    },
    "papermill": {
     "duration": 0.218753,
     "end_time": "2020-12-02T17:04:10.780221",
     "exception": false,
     "start_time": "2020-12-02T17:04:10.561468",
     "status": "completed"
    },
    "tags": []
   },
   "outputs": [
    {
     "output_type": "execute_result",
     "data": {
      "text/plain": [
       "                                                  id  \\\n",
       "0  http://pavel_kosenko.livejournal.com/671121.ht...   \n",
       "1  http://pavel_kosenko.livejournal.com/671121.ht...   \n",
       "2  http://pavel_kosenko.livejournal.com/671121.ht...   \n",
       "3  http://pavel_kosenko.livejournal.com/671121.ht...   \n",
       "4  http://pavel_kosenko.livejournal.com/671121.ht...   \n",
       "\n",
       "                                                text  insult_predict  \\\n",
       "0  первая обработанная вами фотка ну совсем не нр...        0.001042   \n",
       "1                                павел  мне нравится        0.000010   \n",
       "2  ухудшайзер соответствует названию  за упражнен...        0.001294   \n",
       "3                а может она только что из бани была        0.000010   \n",
       "4  я в основном в чб редактирую фотографии  ибо ц...        0.000529   \n",
       "\n",
       "     insult  not insult_predict  not insult  \n",
       "0  0.000532            0.998945    0.999473  \n",
       "1  0.000005            1.000010    1.000005  \n",
       "2  0.000660            0.998685    0.999343  \n",
       "3  0.000005            1.000010    1.000005  \n",
       "4  0.000270            0.999474    0.999737  "
      ],
      "text/html": "<div>\n<style scoped>\n    .dataframe tbody tr th:only-of-type {\n        vertical-align: middle;\n    }\n\n    .dataframe tbody tr th {\n        vertical-align: top;\n    }\n\n    .dataframe thead th {\n        text-align: right;\n    }\n</style>\n<table border=\"1\" class=\"dataframe\">\n  <thead>\n    <tr style=\"text-align: right;\">\n      <th></th>\n      <th>id</th>\n      <th>text</th>\n      <th>insult_predict</th>\n      <th>insult</th>\n      <th>not insult_predict</th>\n      <th>not insult</th>\n    </tr>\n  </thead>\n  <tbody>\n    <tr>\n      <th>0</th>\n      <td>http://pavel_kosenko.livejournal.com/671121.ht...</td>\n      <td>первая обработанная вами фотка ну совсем не нр...</td>\n      <td>0.001042</td>\n      <td>0.000532</td>\n      <td>0.998945</td>\n      <td>0.999473</td>\n    </tr>\n    <tr>\n      <th>1</th>\n      <td>http://pavel_kosenko.livejournal.com/671121.ht...</td>\n      <td>павел  мне нравится</td>\n      <td>0.000010</td>\n      <td>0.000005</td>\n      <td>1.000010</td>\n      <td>1.000005</td>\n    </tr>\n    <tr>\n      <th>2</th>\n      <td>http://pavel_kosenko.livejournal.com/671121.ht...</td>\n      <td>ухудшайзер соответствует названию  за упражнен...</td>\n      <td>0.001294</td>\n      <td>0.000660</td>\n      <td>0.998685</td>\n      <td>0.999343</td>\n    </tr>\n    <tr>\n      <th>3</th>\n      <td>http://pavel_kosenko.livejournal.com/671121.ht...</td>\n      <td>а может она только что из бани была</td>\n      <td>0.000010</td>\n      <td>0.000005</td>\n      <td>1.000010</td>\n      <td>1.000005</td>\n    </tr>\n    <tr>\n      <th>4</th>\n      <td>http://pavel_kosenko.livejournal.com/671121.ht...</td>\n      <td>я в основном в чб редактирую фотографии  ибо ц...</td>\n      <td>0.000529</td>\n      <td>0.000270</td>\n      <td>0.999474</td>\n      <td>0.999737</td>\n    </tr>\n  </tbody>\n</table>\n</div>"
     },
     "metadata": {},
     "execution_count": 36
    }
   ],
   "source": [
    "test_df.head()"
   ]
  },
  {
   "cell_type": "code",
   "execution_count": 88,
   "metadata": {
    "execution": {
     "iopub.execute_input": "2020-12-02T17:04:11.207093Z",
     "iopub.status.busy": "2020-12-02T17:04:11.206223Z",
     "iopub.status.idle": "2020-12-02T17:04:11.212396Z",
     "shell.execute_reply": "2020-12-02T17:04:11.211417Z"
    },
    "papermill": {
     "duration": 0.227052,
     "end_time": "2020-12-02T17:04:11.212603",
     "exception": false,
     "start_time": "2020-12-02T17:04:10.985551",
     "status": "completed"
    },
    "tags": []
   },
   "outputs": [
    {
     "output_type": "execute_result",
     "data": {
      "text/plain": [
       "                                                  id  \\\n",
       "0  http://pavel_kosenko.livejournal.com/671121.ht...   \n",
       "1  http://pavel_kosenko.livejournal.com/671121.ht...   \n",
       "2  http://pavel_kosenko.livejournal.com/671121.ht...   \n",
       "3  http://pavel_kosenko.livejournal.com/671121.ht...   \n",
       "4  http://pavel_kosenko.livejournal.com/671121.ht...   \n",
       "\n",
       "                                                text  insult_predict    insult  \n",
       "0  первая обработанная вами фотка ну совсем не нр...        0.999642  0.999821  \n",
       "1                                павел  мне нравится        1.000010  1.000005  \n",
       "2  ухудшайзер соответствует названию  за упражнен...        0.999522  0.999761  \n",
       "3                а может она только что из бани была        1.000010  1.000005  \n",
       "4  я в основном в чб редактирую фотографии  ибо ц...        0.997758  0.998879  "
      ],
      "text/html": "<div>\n<style scoped>\n    .dataframe tbody tr th:only-of-type {\n        vertical-align: middle;\n    }\n\n    .dataframe tbody tr th {\n        vertical-align: top;\n    }\n\n    .dataframe thead th {\n        text-align: right;\n    }\n</style>\n<table border=\"1\" class=\"dataframe\">\n  <thead>\n    <tr style=\"text-align: right;\">\n      <th></th>\n      <th>id</th>\n      <th>text</th>\n      <th>insult_predict</th>\n      <th>insult</th>\n    </tr>\n  </thead>\n  <tbody>\n    <tr>\n      <th>0</th>\n      <td>http://pavel_kosenko.livejournal.com/671121.ht...</td>\n      <td>первая обработанная вами фотка ну совсем не нр...</td>\n      <td>0.999642</td>\n      <td>0.999821</td>\n    </tr>\n    <tr>\n      <th>1</th>\n      <td>http://pavel_kosenko.livejournal.com/671121.ht...</td>\n      <td>павел  мне нравится</td>\n      <td>1.000010</td>\n      <td>1.000005</td>\n    </tr>\n    <tr>\n      <th>2</th>\n      <td>http://pavel_kosenko.livejournal.com/671121.ht...</td>\n      <td>ухудшайзер соответствует названию  за упражнен...</td>\n      <td>0.999522</td>\n      <td>0.999761</td>\n    </tr>\n    <tr>\n      <th>3</th>\n      <td>http://pavel_kosenko.livejournal.com/671121.ht...</td>\n      <td>а может она только что из бани была</td>\n      <td>1.000010</td>\n      <td>1.000005</td>\n    </tr>\n    <tr>\n      <th>4</th>\n      <td>http://pavel_kosenko.livejournal.com/671121.ht...</td>\n      <td>я в основном в чб редактирую фотографии  ибо ц...</td>\n      <td>0.997758</td>\n      <td>0.998879</td>\n    </tr>\n  </tbody>\n</table>\n</div>"
     },
     "metadata": {},
     "execution_count": 88
    }
   ],
   "source": [
    "test_df.head()"
   ]
  },
  {
   "cell_type": "code",
   "execution_count": 53,
   "metadata": {
    "execution": {
     "iopub.execute_input": "2020-12-02T17:04:11.624829Z",
     "iopub.status.busy": "2020-12-02T17:04:11.623980Z",
     "iopub.status.idle": "2020-12-02T17:04:11.628092Z",
     "shell.execute_reply": "2020-12-02T17:04:11.627295Z"
    },
    "papermill": {
     "duration": 0.205512,
     "end_time": "2020-12-02T17:04:11.628234",
     "exception": false,
     "start_time": "2020-12-02T17:04:11.422722",
     "status": "completed"
    },
    "tags": []
   },
   "outputs": [],
   "source": [
    "# Confusion Matrix"
   ]
  },
  {
   "cell_type": "code",
   "execution_count": 68,
   "metadata": {
    "execution": {
     "iopub.execute_input": "2020-12-02T17:04:12.019162Z",
     "iopub.status.busy": "2020-12-02T17:04:12.018302Z",
     "iopub.status.idle": "2020-12-02T17:04:12.163273Z",
     "shell.execute_reply": "2020-12-02T17:04:12.162633Z"
    },
    "papermill": {
     "duration": 0.343835,
     "end_time": "2020-12-02T17:04:12.163468",
     "exception": false,
     "start_time": "2020-12-02T17:04:11.819633",
     "status": "completed"
    },
    "tags": []
   },
   "outputs": [],
   "source": [
    "import seaborn as sns\n",
    "import matplotlib.pyplot as plt \n",
    "from sklearn.metrics import confusion_matrix\n",
    "def plot_cm(df,human_tag,pred_tag,tag,l1,l2):\n",
    "  cm = confusion_matrix(df[human_tag], df[pred_tag])\n",
    "  cm_df = pd.DataFrame(cm)\n",
    "  plt.figure(figsize=(6,5))\n",
    "  plt.title(tag)\n",
    "  sns.heatmap(cm_df,annot=True,cmap=\"Blues\",fmt=\"d\",cbar=False)\n",
    "  plt.xlabel(l1)\n",
    "  plt.ylabel(l2)\n",
    "  plt.show()"
   ]
  },
  {
   "cell_type": "code",
   "execution_count": 69,
   "metadata": {
    "execution": {
     "iopub.execute_input": "2020-12-02T17:04:12.558637Z",
     "iopub.status.busy": "2020-12-02T17:04:12.557810Z",
     "iopub.status.idle": "2020-12-02T17:04:14.654011Z",
     "shell.execute_reply": "2020-12-02T17:04:14.653128Z"
    },
    "papermill": {
     "duration": 2.29626,
     "end_time": "2020-12-02T17:04:14.654176",
     "exception": false,
     "start_time": "2020-12-02T17:04:12.357916",
     "status": "completed"
    },
    "tags": []
   },
   "outputs": [
    {
     "output_type": "display_data",
     "data": {
      "text/plain": "<Figure size 432x360 with 1 Axes>",
      "image/svg+xml": "<?xml version=\"1.0\" encoding=\"utf-8\" standalone=\"no\"?>\r\n<!DOCTYPE svg PUBLIC \"-//W3C//DTD SVG 1.1//EN\"\r\n  \"http://www.w3.org/Graphics/SVG/1.1/DTD/svg11.dtd\">\r\n<!-- Created with matplotlib (https://matplotlib.org/) -->\r\n<svg height=\"331.9525pt\" version=\"1.1\" viewBox=\"0 0 379.55625 331.9525\" width=\"379.55625pt\" xmlns=\"http://www.w3.org/2000/svg\" xmlns:xlink=\"http://www.w3.org/1999/xlink\">\r\n <metadata>\r\n  <rdf:RDF xmlns:cc=\"http://creativecommons.org/ns#\" xmlns:dc=\"http://purl.org/dc/elements/1.1/\" xmlns:rdf=\"http://www.w3.org/1999/02/22-rdf-syntax-ns#\">\r\n   <cc:Work>\r\n    <dc:type rdf:resource=\"http://purl.org/dc/dcmitype/StillImage\"/>\r\n    <dc:date>2020-12-26T18:00:33.765000</dc:date>\r\n    <dc:format>image/svg+xml</dc:format>\r\n    <dc:creator>\r\n     <cc:Agent>\r\n      <dc:title>Matplotlib v3.3.3, https://matplotlib.org/</dc:title>\r\n     </cc:Agent>\r\n    </dc:creator>\r\n   </cc:Work>\r\n  </rdf:RDF>\r\n </metadata>\r\n <defs>\r\n  <style type=\"text/css\">*{stroke-linecap:butt;stroke-linejoin:round;}</style>\r\n </defs>\r\n <g id=\"figure_1\">\r\n  <g id=\"patch_1\">\r\n   <path d=\"M 0 331.9525 \r\nL 379.55625 331.9525 \r\nL 379.55625 0 \r\nL 0 0 \r\nz\r\n\" style=\"fill:none;\"/>\r\n  </g>\r\n  <g id=\"axes_1\">\r\n   <g id=\"patch_2\">\r\n    <path d=\"M 37.55625 294.118125 \r\nL 372.35625 294.118125 \r\nL 372.35625 22.318125 \r\nL 37.55625 22.318125 \r\nz\r\n\" style=\"fill:#ffffff;\"/>\r\n   </g>\r\n   <g id=\"QuadMesh_1\">\r\n    <path clip-path=\"url(#p1fff538ac1)\" d=\"M 37.55625 22.318125 \r\nL 204.95625 22.318125 \r\nL 204.95625 158.218125 \r\nL 37.55625 158.218125 \r\nL 37.55625 22.318125 \r\n\" style=\"fill:#d9e7f5;\"/>\r\n    <path clip-path=\"url(#p1fff538ac1)\" d=\"M 204.95625 22.318125 \r\nL 372.35625 22.318125 \r\nL 372.35625 158.218125 \r\nL 204.95625 158.218125 \r\nL 204.95625 22.318125 \r\n\" style=\"fill:#08306b;\"/>\r\n    <path clip-path=\"url(#p1fff538ac1)\" d=\"M 37.55625 158.218125 \r\nL 204.95625 158.218125 \r\nL 204.95625 294.118125 \r\nL 37.55625 294.118125 \r\nL 37.55625 158.218125 \r\n\" style=\"fill:#f7fbff;\"/>\r\n    <path clip-path=\"url(#p1fff538ac1)\" d=\"M 204.95625 158.218125 \r\nL 372.35625 158.218125 \r\nL 372.35625 294.118125 \r\nL 204.95625 294.118125 \r\nL 204.95625 158.218125 \r\n\" style=\"fill:#f3f8fe;\"/>\r\n   </g>\r\n   <g id=\"matplotlib.axis_1\">\r\n    <g id=\"xtick_1\">\r\n     <g id=\"line2d_1\">\r\n      <defs>\r\n       <path d=\"M 0 0 \r\nL 0 3.5 \r\n\" id=\"m7c02d482ad\" style=\"stroke:#000000;stroke-width:0.8;\"/>\r\n      </defs>\r\n      <g>\r\n       <use style=\"stroke:#000000;stroke-width:0.8;\" x=\"121.25625\" xlink:href=\"#m7c02d482ad\" y=\"294.118125\"/>\r\n      </g>\r\n     </g>\r\n     <g id=\"text_1\">\r\n      <!-- 0 -->\r\n      <g transform=\"translate(118.075 308.716563)scale(0.1 -0.1)\">\r\n       <defs>\r\n        <path d=\"M 31.78125 66.40625 \r\nQ 24.171875 66.40625 20.328125 58.90625 \r\nQ 16.5 51.421875 16.5 36.375 \r\nQ 16.5 21.390625 20.328125 13.890625 \r\nQ 24.171875 6.390625 31.78125 6.390625 \r\nQ 39.453125 6.390625 43.28125 13.890625 \r\nQ 47.125 21.390625 47.125 36.375 \r\nQ 47.125 51.421875 43.28125 58.90625 \r\nQ 39.453125 66.40625 31.78125 66.40625 \r\nz\r\nM 31.78125 74.21875 \r\nQ 44.046875 74.21875 50.515625 64.515625 \r\nQ 56.984375 54.828125 56.984375 36.375 \r\nQ 56.984375 17.96875 50.515625 8.265625 \r\nQ 44.046875 -1.421875 31.78125 -1.421875 \r\nQ 19.53125 -1.421875 13.0625 8.265625 \r\nQ 6.59375 17.96875 6.59375 36.375 \r\nQ 6.59375 54.828125 13.0625 64.515625 \r\nQ 19.53125 74.21875 31.78125 74.21875 \r\nz\r\n\" id=\"DejaVuSans-48\"/>\r\n       </defs>\r\n       <use xlink:href=\"#DejaVuSans-48\"/>\r\n      </g>\r\n     </g>\r\n    </g>\r\n    <g id=\"xtick_2\">\r\n     <g id=\"line2d_2\">\r\n      <g>\r\n       <use style=\"stroke:#000000;stroke-width:0.8;\" x=\"288.65625\" xlink:href=\"#m7c02d482ad\" y=\"294.118125\"/>\r\n      </g>\r\n     </g>\r\n     <g id=\"text_2\">\r\n      <!-- 1 -->\r\n      <g transform=\"translate(285.475 308.716563)scale(0.1 -0.1)\">\r\n       <defs>\r\n        <path d=\"M 12.40625 8.296875 \r\nL 28.515625 8.296875 \r\nL 28.515625 63.921875 \r\nL 10.984375 60.40625 \r\nL 10.984375 69.390625 \r\nL 28.421875 72.90625 \r\nL 38.28125 72.90625 \r\nL 38.28125 8.296875 \r\nL 54.390625 8.296875 \r\nL 54.390625 0 \r\nL 12.40625 0 \r\nz\r\n\" id=\"DejaVuSans-49\"/>\r\n       </defs>\r\n       <use xlink:href=\"#DejaVuSans-49\"/>\r\n      </g>\r\n     </g>\r\n    </g>\r\n    <g id=\"text_3\">\r\n     <!-- insult_predict -->\r\n     <g transform=\"translate(171.309375 322.394687)scale(0.1 -0.1)\">\r\n      <defs>\r\n       <path d=\"M 9.421875 54.6875 \r\nL 18.40625 54.6875 \r\nL 18.40625 0 \r\nL 9.421875 0 \r\nz\r\nM 9.421875 75.984375 \r\nL 18.40625 75.984375 \r\nL 18.40625 64.59375 \r\nL 9.421875 64.59375 \r\nz\r\n\" id=\"DejaVuSans-105\"/>\r\n       <path d=\"M 54.890625 33.015625 \r\nL 54.890625 0 \r\nL 45.90625 0 \r\nL 45.90625 32.71875 \r\nQ 45.90625 40.484375 42.875 44.328125 \r\nQ 39.84375 48.1875 33.796875 48.1875 \r\nQ 26.515625 48.1875 22.3125 43.546875 \r\nQ 18.109375 38.921875 18.109375 30.90625 \r\nL 18.109375 0 \r\nL 9.078125 0 \r\nL 9.078125 54.6875 \r\nL 18.109375 54.6875 \r\nL 18.109375 46.1875 \r\nQ 21.34375 51.125 25.703125 53.5625 \r\nQ 30.078125 56 35.796875 56 \r\nQ 45.21875 56 50.046875 50.171875 \r\nQ 54.890625 44.34375 54.890625 33.015625 \r\nz\r\n\" id=\"DejaVuSans-110\"/>\r\n       <path d=\"M 44.28125 53.078125 \r\nL 44.28125 44.578125 \r\nQ 40.484375 46.53125 36.375 47.5 \r\nQ 32.28125 48.484375 27.875 48.484375 \r\nQ 21.1875 48.484375 17.84375 46.4375 \r\nQ 14.5 44.390625 14.5 40.28125 \r\nQ 14.5 37.15625 16.890625 35.375 \r\nQ 19.28125 33.59375 26.515625 31.984375 \r\nL 29.59375 31.296875 \r\nQ 39.15625 29.25 43.1875 25.515625 \r\nQ 47.21875 21.78125 47.21875 15.09375 \r\nQ 47.21875 7.46875 41.1875 3.015625 \r\nQ 35.15625 -1.421875 24.609375 -1.421875 \r\nQ 20.21875 -1.421875 15.453125 -0.5625 \r\nQ 10.6875 0.296875 5.421875 2 \r\nL 5.421875 11.28125 \r\nQ 10.40625 8.6875 15.234375 7.390625 \r\nQ 20.0625 6.109375 24.8125 6.109375 \r\nQ 31.15625 6.109375 34.5625 8.28125 \r\nQ 37.984375 10.453125 37.984375 14.40625 \r\nQ 37.984375 18.0625 35.515625 20.015625 \r\nQ 33.0625 21.96875 24.703125 23.78125 \r\nL 21.578125 24.515625 \r\nQ 13.234375 26.265625 9.515625 29.90625 \r\nQ 5.8125 33.546875 5.8125 39.890625 \r\nQ 5.8125 47.609375 11.28125 51.796875 \r\nQ 16.75 56 26.8125 56 \r\nQ 31.78125 56 36.171875 55.265625 \r\nQ 40.578125 54.546875 44.28125 53.078125 \r\nz\r\n\" id=\"DejaVuSans-115\"/>\r\n       <path d=\"M 8.5 21.578125 \r\nL 8.5 54.6875 \r\nL 17.484375 54.6875 \r\nL 17.484375 21.921875 \r\nQ 17.484375 14.15625 20.5 10.265625 \r\nQ 23.53125 6.390625 29.59375 6.390625 \r\nQ 36.859375 6.390625 41.078125 11.03125 \r\nQ 45.3125 15.671875 45.3125 23.6875 \r\nL 45.3125 54.6875 \r\nL 54.296875 54.6875 \r\nL 54.296875 0 \r\nL 45.3125 0 \r\nL 45.3125 8.40625 \r\nQ 42.046875 3.421875 37.71875 1 \r\nQ 33.40625 -1.421875 27.6875 -1.421875 \r\nQ 18.265625 -1.421875 13.375 4.4375 \r\nQ 8.5 10.296875 8.5 21.578125 \r\nz\r\nM 31.109375 56 \r\nz\r\n\" id=\"DejaVuSans-117\"/>\r\n       <path d=\"M 9.421875 75.984375 \r\nL 18.40625 75.984375 \r\nL 18.40625 0 \r\nL 9.421875 0 \r\nz\r\n\" id=\"DejaVuSans-108\"/>\r\n       <path d=\"M 18.3125 70.21875 \r\nL 18.3125 54.6875 \r\nL 36.8125 54.6875 \r\nL 36.8125 47.703125 \r\nL 18.3125 47.703125 \r\nL 18.3125 18.015625 \r\nQ 18.3125 11.328125 20.140625 9.421875 \r\nQ 21.96875 7.515625 27.59375 7.515625 \r\nL 36.8125 7.515625 \r\nL 36.8125 0 \r\nL 27.59375 0 \r\nQ 17.1875 0 13.234375 3.875 \r\nQ 9.28125 7.765625 9.28125 18.015625 \r\nL 9.28125 47.703125 \r\nL 2.6875 47.703125 \r\nL 2.6875 54.6875 \r\nL 9.28125 54.6875 \r\nL 9.28125 70.21875 \r\nz\r\n\" id=\"DejaVuSans-116\"/>\r\n       <path d=\"M 50.984375 -16.609375 \r\nL 50.984375 -23.578125 \r\nL -0.984375 -23.578125 \r\nL -0.984375 -16.609375 \r\nz\r\n\" id=\"DejaVuSans-95\"/>\r\n       <path d=\"M 18.109375 8.203125 \r\nL 18.109375 -20.796875 \r\nL 9.078125 -20.796875 \r\nL 9.078125 54.6875 \r\nL 18.109375 54.6875 \r\nL 18.109375 46.390625 \r\nQ 20.953125 51.265625 25.265625 53.625 \r\nQ 29.59375 56 35.59375 56 \r\nQ 45.5625 56 51.78125 48.09375 \r\nQ 58.015625 40.1875 58.015625 27.296875 \r\nQ 58.015625 14.40625 51.78125 6.484375 \r\nQ 45.5625 -1.421875 35.59375 -1.421875 \r\nQ 29.59375 -1.421875 25.265625 0.953125 \r\nQ 20.953125 3.328125 18.109375 8.203125 \r\nz\r\nM 48.6875 27.296875 \r\nQ 48.6875 37.203125 44.609375 42.84375 \r\nQ 40.53125 48.484375 33.40625 48.484375 \r\nQ 26.265625 48.484375 22.1875 42.84375 \r\nQ 18.109375 37.203125 18.109375 27.296875 \r\nQ 18.109375 17.390625 22.1875 11.75 \r\nQ 26.265625 6.109375 33.40625 6.109375 \r\nQ 40.53125 6.109375 44.609375 11.75 \r\nQ 48.6875 17.390625 48.6875 27.296875 \r\nz\r\n\" id=\"DejaVuSans-112\"/>\r\n       <path d=\"M 41.109375 46.296875 \r\nQ 39.59375 47.171875 37.8125 47.578125 \r\nQ 36.03125 48 33.890625 48 \r\nQ 26.265625 48 22.1875 43.046875 \r\nQ 18.109375 38.09375 18.109375 28.8125 \r\nL 18.109375 0 \r\nL 9.078125 0 \r\nL 9.078125 54.6875 \r\nL 18.109375 54.6875 \r\nL 18.109375 46.1875 \r\nQ 20.953125 51.171875 25.484375 53.578125 \r\nQ 30.03125 56 36.53125 56 \r\nQ 37.453125 56 38.578125 55.875 \r\nQ 39.703125 55.765625 41.0625 55.515625 \r\nz\r\n\" id=\"DejaVuSans-114\"/>\r\n       <path d=\"M 56.203125 29.59375 \r\nL 56.203125 25.203125 \r\nL 14.890625 25.203125 \r\nQ 15.484375 15.921875 20.484375 11.0625 \r\nQ 25.484375 6.203125 34.421875 6.203125 \r\nQ 39.59375 6.203125 44.453125 7.46875 \r\nQ 49.3125 8.734375 54.109375 11.28125 \r\nL 54.109375 2.78125 \r\nQ 49.265625 0.734375 44.1875 -0.34375 \r\nQ 39.109375 -1.421875 33.890625 -1.421875 \r\nQ 20.796875 -1.421875 13.15625 6.1875 \r\nQ 5.515625 13.8125 5.515625 26.8125 \r\nQ 5.515625 40.234375 12.765625 48.109375 \r\nQ 20.015625 56 32.328125 56 \r\nQ 43.359375 56 49.78125 48.890625 \r\nQ 56.203125 41.796875 56.203125 29.59375 \r\nz\r\nM 47.21875 32.234375 \r\nQ 47.125 39.59375 43.09375 43.984375 \r\nQ 39.0625 48.390625 32.421875 48.390625 \r\nQ 24.90625 48.390625 20.390625 44.140625 \r\nQ 15.875 39.890625 15.1875 32.171875 \r\nz\r\n\" id=\"DejaVuSans-101\"/>\r\n       <path d=\"M 45.40625 46.390625 \r\nL 45.40625 75.984375 \r\nL 54.390625 75.984375 \r\nL 54.390625 0 \r\nL 45.40625 0 \r\nL 45.40625 8.203125 \r\nQ 42.578125 3.328125 38.25 0.953125 \r\nQ 33.9375 -1.421875 27.875 -1.421875 \r\nQ 17.96875 -1.421875 11.734375 6.484375 \r\nQ 5.515625 14.40625 5.515625 27.296875 \r\nQ 5.515625 40.1875 11.734375 48.09375 \r\nQ 17.96875 56 27.875 56 \r\nQ 33.9375 56 38.25 53.625 \r\nQ 42.578125 51.265625 45.40625 46.390625 \r\nz\r\nM 14.796875 27.296875 \r\nQ 14.796875 17.390625 18.875 11.75 \r\nQ 22.953125 6.109375 30.078125 6.109375 \r\nQ 37.203125 6.109375 41.296875 11.75 \r\nQ 45.40625 17.390625 45.40625 27.296875 \r\nQ 45.40625 37.203125 41.296875 42.84375 \r\nQ 37.203125 48.484375 30.078125 48.484375 \r\nQ 22.953125 48.484375 18.875 42.84375 \r\nQ 14.796875 37.203125 14.796875 27.296875 \r\nz\r\n\" id=\"DejaVuSans-100\"/>\r\n       <path d=\"M 48.78125 52.59375 \r\nL 48.78125 44.1875 \r\nQ 44.96875 46.296875 41.140625 47.34375 \r\nQ 37.3125 48.390625 33.40625 48.390625 \r\nQ 24.65625 48.390625 19.8125 42.84375 \r\nQ 14.984375 37.3125 14.984375 27.296875 \r\nQ 14.984375 17.28125 19.8125 11.734375 \r\nQ 24.65625 6.203125 33.40625 6.203125 \r\nQ 37.3125 6.203125 41.140625 7.25 \r\nQ 44.96875 8.296875 48.78125 10.40625 \r\nL 48.78125 2.09375 \r\nQ 45.015625 0.34375 40.984375 -0.53125 \r\nQ 36.96875 -1.421875 32.421875 -1.421875 \r\nQ 20.0625 -1.421875 12.78125 6.34375 \r\nQ 5.515625 14.109375 5.515625 27.296875 \r\nQ 5.515625 40.671875 12.859375 48.328125 \r\nQ 20.21875 56 33.015625 56 \r\nQ 37.15625 56 41.109375 55.140625 \r\nQ 45.0625 54.296875 48.78125 52.59375 \r\nz\r\n\" id=\"DejaVuSans-99\"/>\r\n      </defs>\r\n      <use xlink:href=\"#DejaVuSans-105\"/>\r\n      <use x=\"27.783203\" xlink:href=\"#DejaVuSans-110\"/>\r\n      <use x=\"91.162109\" xlink:href=\"#DejaVuSans-115\"/>\r\n      <use x=\"143.261719\" xlink:href=\"#DejaVuSans-117\"/>\r\n      <use x=\"206.640625\" xlink:href=\"#DejaVuSans-108\"/>\r\n      <use x=\"234.423828\" xlink:href=\"#DejaVuSans-116\"/>\r\n      <use x=\"273.632812\" xlink:href=\"#DejaVuSans-95\"/>\r\n      <use x=\"323.632812\" xlink:href=\"#DejaVuSans-112\"/>\r\n      <use x=\"387.109375\" xlink:href=\"#DejaVuSans-114\"/>\r\n      <use x=\"425.972656\" xlink:href=\"#DejaVuSans-101\"/>\r\n      <use x=\"487.496094\" xlink:href=\"#DejaVuSans-100\"/>\r\n      <use x=\"550.972656\" xlink:href=\"#DejaVuSans-105\"/>\r\n      <use x=\"578.755859\" xlink:href=\"#DejaVuSans-99\"/>\r\n      <use x=\"633.736328\" xlink:href=\"#DejaVuSans-116\"/>\r\n     </g>\r\n    </g>\r\n   </g>\r\n   <g id=\"matplotlib.axis_2\">\r\n    <g id=\"ytick_1\">\r\n     <g id=\"line2d_3\">\r\n      <defs>\r\n       <path d=\"M 0 0 \r\nL -3.5 0 \r\n\" id=\"m4c0bda127c\" style=\"stroke:#000000;stroke-width:0.8;\"/>\r\n      </defs>\r\n      <g>\r\n       <use style=\"stroke:#000000;stroke-width:0.8;\" x=\"37.55625\" xlink:href=\"#m4c0bda127c\" y=\"90.268125\"/>\r\n      </g>\r\n     </g>\r\n     <g id=\"text_4\">\r\n      <!-- 0 -->\r\n      <g transform=\"translate(28.476563 92.831406)rotate(-90)scale(0.1 -0.1)\">\r\n       <use xlink:href=\"#DejaVuSans-48\"/>\r\n      </g>\r\n     </g>\r\n    </g>\r\n    <g id=\"ytick_2\">\r\n     <g id=\"line2d_4\">\r\n      <g>\r\n       <use style=\"stroke:#000000;stroke-width:0.8;\" x=\"37.55625\" xlink:href=\"#m4c0bda127c\" y=\"226.168125\"/>\r\n      </g>\r\n     </g>\r\n     <g id=\"text_5\">\r\n      <!-- 1 -->\r\n      <g transform=\"translate(28.476563 228.731406)rotate(-90)scale(0.1 -0.1)\">\r\n       <use xlink:href=\"#DejaVuSans-49\"/>\r\n      </g>\r\n     </g>\r\n    </g>\r\n    <g id=\"text_6\">\r\n     <!-- Actual -->\r\n     <g transform=\"translate(14.798438 173.882187)rotate(-90)scale(0.1 -0.1)\">\r\n      <defs>\r\n       <path d=\"M 34.1875 63.1875 \r\nL 20.796875 26.90625 \r\nL 47.609375 26.90625 \r\nz\r\nM 28.609375 72.90625 \r\nL 39.796875 72.90625 \r\nL 67.578125 0 \r\nL 57.328125 0 \r\nL 50.6875 18.703125 \r\nL 17.828125 18.703125 \r\nL 11.1875 0 \r\nL 0.78125 0 \r\nz\r\n\" id=\"DejaVuSans-65\"/>\r\n       <path d=\"M 34.28125 27.484375 \r\nQ 23.390625 27.484375 19.1875 25 \r\nQ 14.984375 22.515625 14.984375 16.5 \r\nQ 14.984375 11.71875 18.140625 8.90625 \r\nQ 21.296875 6.109375 26.703125 6.109375 \r\nQ 34.1875 6.109375 38.703125 11.40625 \r\nQ 43.21875 16.703125 43.21875 25.484375 \r\nL 43.21875 27.484375 \r\nz\r\nM 52.203125 31.203125 \r\nL 52.203125 0 \r\nL 43.21875 0 \r\nL 43.21875 8.296875 \r\nQ 40.140625 3.328125 35.546875 0.953125 \r\nQ 30.953125 -1.421875 24.3125 -1.421875 \r\nQ 15.921875 -1.421875 10.953125 3.296875 \r\nQ 6 8.015625 6 15.921875 \r\nQ 6 25.140625 12.171875 29.828125 \r\nQ 18.359375 34.515625 30.609375 34.515625 \r\nL 43.21875 34.515625 \r\nL 43.21875 35.40625 \r\nQ 43.21875 41.609375 39.140625 45 \r\nQ 35.0625 48.390625 27.6875 48.390625 \r\nQ 23 48.390625 18.546875 47.265625 \r\nQ 14.109375 46.140625 10.015625 43.890625 \r\nL 10.015625 52.203125 \r\nQ 14.9375 54.109375 19.578125 55.046875 \r\nQ 24.21875 56 28.609375 56 \r\nQ 40.484375 56 46.34375 49.84375 \r\nQ 52.203125 43.703125 52.203125 31.203125 \r\nz\r\n\" id=\"DejaVuSans-97\"/>\r\n      </defs>\r\n      <use xlink:href=\"#DejaVuSans-65\"/>\r\n      <use x=\"66.658203\" xlink:href=\"#DejaVuSans-99\"/>\r\n      <use x=\"121.638672\" xlink:href=\"#DejaVuSans-116\"/>\r\n      <use x=\"160.847656\" xlink:href=\"#DejaVuSans-117\"/>\r\n      <use x=\"224.226562\" xlink:href=\"#DejaVuSans-97\"/>\r\n      <use x=\"285.505859\" xlink:href=\"#DejaVuSans-108\"/>\r\n     </g>\r\n    </g>\r\n   </g>\r\n   <g id=\"text_7\">\r\n    <!-- 27306 -->\r\n    <g style=\"fill:#262626;\" transform=\"translate(105.35 93.0275)scale(0.1 -0.1)\">\r\n     <defs>\r\n      <path d=\"M 19.1875 8.296875 \r\nL 53.609375 8.296875 \r\nL 53.609375 0 \r\nL 7.328125 0 \r\nL 7.328125 8.296875 \r\nQ 12.9375 14.109375 22.625 23.890625 \r\nQ 32.328125 33.6875 34.8125 36.53125 \r\nQ 39.546875 41.84375 41.421875 45.53125 \r\nQ 43.3125 49.21875 43.3125 52.78125 \r\nQ 43.3125 58.59375 39.234375 62.25 \r\nQ 35.15625 65.921875 28.609375 65.921875 \r\nQ 23.96875 65.921875 18.8125 64.3125 \r\nQ 13.671875 62.703125 7.8125 59.421875 \r\nL 7.8125 69.390625 \r\nQ 13.765625 71.78125 18.9375 73 \r\nQ 24.125 74.21875 28.421875 74.21875 \r\nQ 39.75 74.21875 46.484375 68.546875 \r\nQ 53.21875 62.890625 53.21875 53.421875 \r\nQ 53.21875 48.921875 51.53125 44.890625 \r\nQ 49.859375 40.875 45.40625 35.40625 \r\nQ 44.1875 33.984375 37.640625 27.21875 \r\nQ 31.109375 20.453125 19.1875 8.296875 \r\nz\r\n\" id=\"DejaVuSans-50\"/>\r\n      <path d=\"M 8.203125 72.90625 \r\nL 55.078125 72.90625 \r\nL 55.078125 68.703125 \r\nL 28.609375 0 \r\nL 18.3125 0 \r\nL 43.21875 64.59375 \r\nL 8.203125 64.59375 \r\nz\r\n\" id=\"DejaVuSans-55\"/>\r\n      <path d=\"M 40.578125 39.3125 \r\nQ 47.65625 37.796875 51.625 33 \r\nQ 55.609375 28.21875 55.609375 21.1875 \r\nQ 55.609375 10.40625 48.1875 4.484375 \r\nQ 40.765625 -1.421875 27.09375 -1.421875 \r\nQ 22.515625 -1.421875 17.65625 -0.515625 \r\nQ 12.796875 0.390625 7.625 2.203125 \r\nL 7.625 11.71875 \r\nQ 11.71875 9.328125 16.59375 8.109375 \r\nQ 21.484375 6.890625 26.8125 6.890625 \r\nQ 36.078125 6.890625 40.9375 10.546875 \r\nQ 45.796875 14.203125 45.796875 21.1875 \r\nQ 45.796875 27.640625 41.28125 31.265625 \r\nQ 36.765625 34.90625 28.71875 34.90625 \r\nL 20.21875 34.90625 \r\nL 20.21875 43.015625 \r\nL 29.109375 43.015625 \r\nQ 36.375 43.015625 40.234375 45.921875 \r\nQ 44.09375 48.828125 44.09375 54.296875 \r\nQ 44.09375 59.90625 40.109375 62.90625 \r\nQ 36.140625 65.921875 28.71875 65.921875 \r\nQ 24.65625 65.921875 20.015625 65.03125 \r\nQ 15.375 64.15625 9.8125 62.3125 \r\nL 9.8125 71.09375 \r\nQ 15.4375 72.65625 20.34375 73.4375 \r\nQ 25.25 74.21875 29.59375 74.21875 \r\nQ 40.828125 74.21875 47.359375 69.109375 \r\nQ 53.90625 64.015625 53.90625 55.328125 \r\nQ 53.90625 49.265625 50.4375 45.09375 \r\nQ 46.96875 40.921875 40.578125 39.3125 \r\nz\r\n\" id=\"DejaVuSans-51\"/>\r\n      <path d=\"M 33.015625 40.375 \r\nQ 26.375 40.375 22.484375 35.828125 \r\nQ 18.609375 31.296875 18.609375 23.390625 \r\nQ 18.609375 15.53125 22.484375 10.953125 \r\nQ 26.375 6.390625 33.015625 6.390625 \r\nQ 39.65625 6.390625 43.53125 10.953125 \r\nQ 47.40625 15.53125 47.40625 23.390625 \r\nQ 47.40625 31.296875 43.53125 35.828125 \r\nQ 39.65625 40.375 33.015625 40.375 \r\nz\r\nM 52.59375 71.296875 \r\nL 52.59375 62.3125 \r\nQ 48.875 64.0625 45.09375 64.984375 \r\nQ 41.3125 65.921875 37.59375 65.921875 \r\nQ 27.828125 65.921875 22.671875 59.328125 \r\nQ 17.53125 52.734375 16.796875 39.40625 \r\nQ 19.671875 43.65625 24.015625 45.921875 \r\nQ 28.375 48.1875 33.59375 48.1875 \r\nQ 44.578125 48.1875 50.953125 41.515625 \r\nQ 57.328125 34.859375 57.328125 23.390625 \r\nQ 57.328125 12.15625 50.6875 5.359375 \r\nQ 44.046875 -1.421875 33.015625 -1.421875 \r\nQ 20.359375 -1.421875 13.671875 8.265625 \r\nQ 6.984375 17.96875 6.984375 36.375 \r\nQ 6.984375 53.65625 15.1875 63.9375 \r\nQ 23.390625 74.21875 37.203125 74.21875 \r\nQ 40.921875 74.21875 44.703125 73.484375 \r\nQ 48.484375 72.75 52.59375 71.296875 \r\nz\r\n\" id=\"DejaVuSans-54\"/>\r\n     </defs>\r\n     <use xlink:href=\"#DejaVuSans-50\"/>\r\n     <use x=\"63.623047\" xlink:href=\"#DejaVuSans-55\"/>\r\n     <use x=\"127.246094\" xlink:href=\"#DejaVuSans-51\"/>\r\n     <use x=\"190.869141\" xlink:href=\"#DejaVuSans-48\"/>\r\n     <use x=\"254.492188\" xlink:href=\"#DejaVuSans-54\"/>\r\n    </g>\r\n   </g>\r\n   <g id=\"text_8\">\r\n    <!-- 174742 -->\r\n    <g style=\"fill:#ffffff;\" transform=\"translate(269.56875 93.0275)scale(0.1 -0.1)\">\r\n     <defs>\r\n      <path d=\"M 37.796875 64.3125 \r\nL 12.890625 25.390625 \r\nL 37.796875 25.390625 \r\nz\r\nM 35.203125 72.90625 \r\nL 47.609375 72.90625 \r\nL 47.609375 25.390625 \r\nL 58.015625 25.390625 \r\nL 58.015625 17.1875 \r\nL 47.609375 17.1875 \r\nL 47.609375 0 \r\nL 37.796875 0 \r\nL 37.796875 17.1875 \r\nL 4.890625 17.1875 \r\nL 4.890625 26.703125 \r\nz\r\n\" id=\"DejaVuSans-52\"/>\r\n     </defs>\r\n     <use xlink:href=\"#DejaVuSans-49\"/>\r\n     <use x=\"63.623047\" xlink:href=\"#DejaVuSans-55\"/>\r\n     <use x=\"127.246094\" xlink:href=\"#DejaVuSans-52\"/>\r\n     <use x=\"190.869141\" xlink:href=\"#DejaVuSans-55\"/>\r\n     <use x=\"254.492188\" xlink:href=\"#DejaVuSans-52\"/>\r\n     <use x=\"318.115234\" xlink:href=\"#DejaVuSans-50\"/>\r\n    </g>\r\n   </g>\r\n   <g id=\"text_9\">\r\n    <!-- 611 -->\r\n    <g style=\"fill:#262626;\" transform=\"translate(111.7125 228.9275)scale(0.1 -0.1)\">\r\n     <use xlink:href=\"#DejaVuSans-54\"/>\r\n     <use x=\"63.623047\" xlink:href=\"#DejaVuSans-49\"/>\r\n     <use x=\"127.246094\" xlink:href=\"#DejaVuSans-49\"/>\r\n    </g>\r\n   </g>\r\n   <g id=\"text_10\">\r\n    <!-- 4683 -->\r\n    <g style=\"fill:#262626;\" transform=\"translate(275.93125 228.9275)scale(0.1 -0.1)\">\r\n     <defs>\r\n      <path d=\"M 31.78125 34.625 \r\nQ 24.75 34.625 20.71875 30.859375 \r\nQ 16.703125 27.09375 16.703125 20.515625 \r\nQ 16.703125 13.921875 20.71875 10.15625 \r\nQ 24.75 6.390625 31.78125 6.390625 \r\nQ 38.8125 6.390625 42.859375 10.171875 \r\nQ 46.921875 13.96875 46.921875 20.515625 \r\nQ 46.921875 27.09375 42.890625 30.859375 \r\nQ 38.875 34.625 31.78125 34.625 \r\nz\r\nM 21.921875 38.8125 \r\nQ 15.578125 40.375 12.03125 44.71875 \r\nQ 8.5 49.078125 8.5 55.328125 \r\nQ 8.5 64.0625 14.71875 69.140625 \r\nQ 20.953125 74.21875 31.78125 74.21875 \r\nQ 42.671875 74.21875 48.875 69.140625 \r\nQ 55.078125 64.0625 55.078125 55.328125 \r\nQ 55.078125 49.078125 51.53125 44.71875 \r\nQ 48 40.375 41.703125 38.8125 \r\nQ 48.828125 37.15625 52.796875 32.3125 \r\nQ 56.78125 27.484375 56.78125 20.515625 \r\nQ 56.78125 9.90625 50.3125 4.234375 \r\nQ 43.84375 -1.421875 31.78125 -1.421875 \r\nQ 19.734375 -1.421875 13.25 4.234375 \r\nQ 6.78125 9.90625 6.78125 20.515625 \r\nQ 6.78125 27.484375 10.78125 32.3125 \r\nQ 14.796875 37.15625 21.921875 38.8125 \r\nz\r\nM 18.3125 54.390625 \r\nQ 18.3125 48.734375 21.84375 45.5625 \r\nQ 25.390625 42.390625 31.78125 42.390625 \r\nQ 38.140625 42.390625 41.71875 45.5625 \r\nQ 45.3125 48.734375 45.3125 54.390625 \r\nQ 45.3125 60.0625 41.71875 63.234375 \r\nQ 38.140625 66.40625 31.78125 66.40625 \r\nQ 25.390625 66.40625 21.84375 63.234375 \r\nQ 18.3125 60.0625 18.3125 54.390625 \r\nz\r\n\" id=\"DejaVuSans-56\"/>\r\n     </defs>\r\n     <use xlink:href=\"#DejaVuSans-52\"/>\r\n     <use x=\"63.623047\" xlink:href=\"#DejaVuSans-54\"/>\r\n     <use x=\"127.246094\" xlink:href=\"#DejaVuSans-56\"/>\r\n     <use x=\"190.869141\" xlink:href=\"#DejaVuSans-51\"/>\r\n    </g>\r\n   </g>\r\n   <g id=\"text_11\">\r\n    <!-- insult label - actual vs predict -->\r\n    <g transform=\"translate(116.218125 16.318125)scale(0.12 -0.12)\">\r\n     <defs>\r\n      <path id=\"DejaVuSans-32\"/>\r\n      <path d=\"M 48.6875 27.296875 \r\nQ 48.6875 37.203125 44.609375 42.84375 \r\nQ 40.53125 48.484375 33.40625 48.484375 \r\nQ 26.265625 48.484375 22.1875 42.84375 \r\nQ 18.109375 37.203125 18.109375 27.296875 \r\nQ 18.109375 17.390625 22.1875 11.75 \r\nQ 26.265625 6.109375 33.40625 6.109375 \r\nQ 40.53125 6.109375 44.609375 11.75 \r\nQ 48.6875 17.390625 48.6875 27.296875 \r\nz\r\nM 18.109375 46.390625 \r\nQ 20.953125 51.265625 25.265625 53.625 \r\nQ 29.59375 56 35.59375 56 \r\nQ 45.5625 56 51.78125 48.09375 \r\nQ 58.015625 40.1875 58.015625 27.296875 \r\nQ 58.015625 14.40625 51.78125 6.484375 \r\nQ 45.5625 -1.421875 35.59375 -1.421875 \r\nQ 29.59375 -1.421875 25.265625 0.953125 \r\nQ 20.953125 3.328125 18.109375 8.203125 \r\nL 18.109375 0 \r\nL 9.078125 0 \r\nL 9.078125 75.984375 \r\nL 18.109375 75.984375 \r\nz\r\n\" id=\"DejaVuSans-98\"/>\r\n      <path d=\"M 4.890625 31.390625 \r\nL 31.203125 31.390625 \r\nL 31.203125 23.390625 \r\nL 4.890625 23.390625 \r\nz\r\n\" id=\"DejaVuSans-45\"/>\r\n      <path d=\"M 2.984375 54.6875 \r\nL 12.5 54.6875 \r\nL 29.59375 8.796875 \r\nL 46.6875 54.6875 \r\nL 56.203125 54.6875 \r\nL 35.6875 0 \r\nL 23.484375 0 \r\nz\r\n\" id=\"DejaVuSans-118\"/>\r\n     </defs>\r\n     <use xlink:href=\"#DejaVuSans-105\"/>\r\n     <use x=\"27.783203\" xlink:href=\"#DejaVuSans-110\"/>\r\n     <use x=\"91.162109\" xlink:href=\"#DejaVuSans-115\"/>\r\n     <use x=\"143.261719\" xlink:href=\"#DejaVuSans-117\"/>\r\n     <use x=\"206.640625\" xlink:href=\"#DejaVuSans-108\"/>\r\n     <use x=\"234.423828\" xlink:href=\"#DejaVuSans-116\"/>\r\n     <use x=\"273.632812\" xlink:href=\"#DejaVuSans-32\"/>\r\n     <use x=\"305.419922\" xlink:href=\"#DejaVuSans-108\"/>\r\n     <use x=\"333.203125\" xlink:href=\"#DejaVuSans-97\"/>\r\n     <use x=\"394.482422\" xlink:href=\"#DejaVuSans-98\"/>\r\n     <use x=\"457.958984\" xlink:href=\"#DejaVuSans-101\"/>\r\n     <use x=\"519.482422\" xlink:href=\"#DejaVuSans-108\"/>\r\n     <use x=\"547.265625\" xlink:href=\"#DejaVuSans-32\"/>\r\n     <use x=\"579.052734\" xlink:href=\"#DejaVuSans-45\"/>\r\n     <use x=\"615.136719\" xlink:href=\"#DejaVuSans-32\"/>\r\n     <use x=\"646.923828\" xlink:href=\"#DejaVuSans-97\"/>\r\n     <use x=\"708.203125\" xlink:href=\"#DejaVuSans-99\"/>\r\n     <use x=\"763.183594\" xlink:href=\"#DejaVuSans-116\"/>\r\n     <use x=\"802.392578\" xlink:href=\"#DejaVuSans-117\"/>\r\n     <use x=\"865.771484\" xlink:href=\"#DejaVuSans-97\"/>\r\n     <use x=\"927.050781\" xlink:href=\"#DejaVuSans-108\"/>\r\n     <use x=\"954.833984\" xlink:href=\"#DejaVuSans-32\"/>\r\n     <use x=\"986.621094\" xlink:href=\"#DejaVuSans-118\"/>\r\n     <use x=\"1045.800781\" xlink:href=\"#DejaVuSans-115\"/>\r\n     <use x=\"1097.900391\" xlink:href=\"#DejaVuSans-32\"/>\r\n     <use x=\"1129.6875\" xlink:href=\"#DejaVuSans-112\"/>\r\n     <use x=\"1193.164062\" xlink:href=\"#DejaVuSans-114\"/>\r\n     <use x=\"1232.027344\" xlink:href=\"#DejaVuSans-101\"/>\r\n     <use x=\"1293.550781\" xlink:href=\"#DejaVuSans-100\"/>\r\n     <use x=\"1357.027344\" xlink:href=\"#DejaVuSans-105\"/>\r\n     <use x=\"1384.810547\" xlink:href=\"#DejaVuSans-99\"/>\r\n     <use x=\"1439.791016\" xlink:href=\"#DejaVuSans-116\"/>\r\n    </g>\r\n   </g>\r\n  </g>\r\n </g>\r\n <defs>\r\n  <clipPath id=\"p1fff538ac1\">\r\n   <rect height=\"271.8\" width=\"334.8\" x=\"37.55625\" y=\"22.318125\"/>\r\n  </clipPath>\r\n </defs>\r\n</svg>\r\n",
      "image/png": "[encoded data removed]"
     },
     "metadata": {
      "needs_background": "light"
     }
    }
   ],
   "source": [
    "for tag in threshold.keys():\n",
    "  actual_tag=tag.replace('_predict','')\n",
    "  pred_tag=tag.replace('_predict','')+\"_pred\"\n",
    "  plot_cm(train_df,actual_tag,pred_tag,actual_tag+' label - actual vs predict',tag,'Actual')"
   ]
  },
  {
   "cell_type": "code",
   "execution_count": 39,
   "metadata": {
    "execution": {
     "iopub.execute_input": "2020-12-02T17:04:15.457187Z",
     "iopub.status.busy": "2020-12-02T17:04:15.456278Z",
     "iopub.status.idle": "2020-12-02T17:12:59.957220Z",
     "shell.execute_reply": "2020-12-02T17:12:59.957959Z"
    },
    "papermill": {
     "duration": 524.709672,
     "end_time": "2020-12-02T17:12:59.958141",
     "exception": false,
     "start_time": "2020-12-02T17:04:15.248469",
     "status": "completed"
    },
    "tags": []
   },
   "outputs": [
    {
     "output_type": "stream",
     "name": "stdout",
     "text": [
      "              precision    recall  f1-score   support\n\n           0       0.92      1.00      0.96     16680\n           1       0.00      0.00      0.00      1463\n\n    accuracy                           0.92     18143\n   macro avg       0.46      0.50      0.48     18143\nweighted avg       0.85      0.92      0.88     18143\n\n              precision    recall  f1-score   support\n\n           0       0.09      0.04      0.06      1463\n           1       0.92      0.96      0.94     16680\n\n    accuracy                           0.89     18143\n   macro avg       0.50      0.50      0.50     18143\nweighted avg       0.85      0.89      0.87     18143\n\n"
     ]
    }
   ],
   "source": [
    "from sklearn.preprocessing import Binarizer\n",
    "from sklearn.metrics import classification_report\n",
    "for label in threshold.keys():\n",
    "    actual_tag=label.replace('_predict','')\n",
    "    y_test_label = np.where(train_df[actual_tag]==1, 1, 0)\n",
    "    y_pred_temp = Binarizer(0.98).fit_transform(train_df[label].values.reshape(-1,1)) \n",
    "    score = classification_report(y_test_label, y_pred_temp)  \n",
    "    print(score)"
   ]
  },
  {
   "cell_type": "code",
   "execution_count": 57,
   "metadata": {
    "execution": {
     "iopub.execute_input": "2020-12-02T17:13:00.383646Z",
     "iopub.status.busy": "2020-12-02T17:13:00.382812Z",
     "iopub.status.idle": "2020-12-02T17:13:00.387418Z",
     "shell.execute_reply": "2020-12-02T17:13:00.386623Z"
    },
    "papermill": {
     "duration": 0.213322,
     "end_time": "2020-12-02T17:13:00.387545",
     "exception": false,
     "start_time": "2020-12-02T17:13:00.174223",
     "status": "completed"
    },
    "tags": []
   },
   "outputs": [],
   "source": [
    "# threshold = {\n",
    "#     'toxic_predict' : 0.98,\n",
    "#     'severe_toxic_predict' : 0.34,\n",
    "#     'obscene_predict': 0.8,\n",
    "#     'threat_predict': 0.36,\n",
    "#     'insult_predict':0.76,\n",
    "#     'identity_hate_predict': 0.6\n",
    "# }\n",
    "\n"
   ]
  },
  {
   "cell_type": "code",
   "execution_count": 95,
   "metadata": {
    "papermill": {
     "duration": 0.197166,
     "end_time": "2020-12-02T17:13:00.783776",
     "exception": false,
     "start_time": "2020-12-02T17:13:00.586610",
     "status": "completed"
    },
    "tags": []
   },
   "outputs": [
    {
     "output_type": "error",
     "ename": "ValueError",
     "evalue": "Found input variables with inconsistent numbers of samples: [207342, 18143]",
     "traceback": [
      "\u001b[1;31m---------------------------------------------------------------------------\u001b[0m",
      "\u001b[1;31mValueError\u001b[0m                                Traceback (most recent call last)",
      "\u001b[1;32m<ipython-input-95-1c2e7f9bd353>\u001b[0m in \u001b[0;36m<module>\u001b[1;34m\u001b[0m\n\u001b[0;32m      5\u001b[0m     \u001b[0my_test_label\u001b[0m \u001b[1;33m=\u001b[0m \u001b[0mnp\u001b[0m\u001b[1;33m.\u001b[0m\u001b[0mwhere\u001b[0m\u001b[1;33m(\u001b[0m\u001b[0msample_submission_df\u001b[0m\u001b[1;33m[\u001b[0m\u001b[0mactual_tag\u001b[0m\u001b[1;33m]\u001b[0m\u001b[1;33m==\u001b[0m\u001b[1;36m1\u001b[0m\u001b[1;33m,\u001b[0m \u001b[1;36m1\u001b[0m\u001b[1;33m,\u001b[0m \u001b[1;36m0\u001b[0m\u001b[1;33m)\u001b[0m\u001b[1;33m\u001b[0m\u001b[1;33m\u001b[0m\u001b[0m\n\u001b[0;32m      6\u001b[0m     \u001b[0my_pred_temp\u001b[0m \u001b[1;33m=\u001b[0m \u001b[0mBinarizer\u001b[0m\u001b[1;33m(\u001b[0m\u001b[1;36m0.98\u001b[0m\u001b[1;33m)\u001b[0m\u001b[1;33m.\u001b[0m\u001b[0mfit_transform\u001b[0m\u001b[1;33m(\u001b[0m\u001b[0mtrain_df\u001b[0m\u001b[1;33m[\u001b[0m\u001b[0mlabel\u001b[0m\u001b[1;33m]\u001b[0m\u001b[1;33m.\u001b[0m\u001b[0mvalues\u001b[0m\u001b[1;33m.\u001b[0m\u001b[0mreshape\u001b[0m\u001b[1;33m(\u001b[0m\u001b[1;33m-\u001b[0m\u001b[1;36m1\u001b[0m\u001b[1;33m,\u001b[0m\u001b[1;36m1\u001b[0m\u001b[1;33m)\u001b[0m\u001b[1;33m)\u001b[0m\u001b[1;33m\u001b[0m\u001b[1;33m\u001b[0m\u001b[0m\n\u001b[1;32m----> 7\u001b[1;33m     \u001b[0mscore\u001b[0m \u001b[1;33m=\u001b[0m \u001b[0mclassification_report\u001b[0m\u001b[1;33m(\u001b[0m\u001b[0my_test_label\u001b[0m\u001b[1;33m,\u001b[0m \u001b[0my_pred_temp\u001b[0m\u001b[1;33m)\u001b[0m\u001b[1;33m\u001b[0m\u001b[1;33m\u001b[0m\u001b[0m\n\u001b[0m\u001b[0;32m      8\u001b[0m     \u001b[0mprint\u001b[0m\u001b[1;33m(\u001b[0m\u001b[0mscore\u001b[0m\u001b[1;33m)\u001b[0m\u001b[1;33m\u001b[0m\u001b[1;33m\u001b[0m\u001b[0m\n",
      "\u001b[1;32m~\\AppData\\Roaming\\Python\\Python39\\site-packages\\sklearn\\utils\\validation.py\u001b[0m in \u001b[0;36minner_f\u001b[1;34m(*args, **kwargs)\u001b[0m\n\u001b[0;32m     61\u001b[0m             \u001b[0mextra_args\u001b[0m \u001b[1;33m=\u001b[0m \u001b[0mlen\u001b[0m\u001b[1;33m(\u001b[0m\u001b[0margs\u001b[0m\u001b[1;33m)\u001b[0m \u001b[1;33m-\u001b[0m \u001b[0mlen\u001b[0m\u001b[1;33m(\u001b[0m\u001b[0mall_args\u001b[0m\u001b[1;33m)\u001b[0m\u001b[1;33m\u001b[0m\u001b[1;33m\u001b[0m\u001b[0m\n\u001b[0;32m     62\u001b[0m             \u001b[1;32mif\u001b[0m \u001b[0mextra_args\u001b[0m \u001b[1;33m<=\u001b[0m \u001b[1;36m0\u001b[0m\u001b[1;33m:\u001b[0m\u001b[1;33m\u001b[0m\u001b[1;33m\u001b[0m\u001b[0m\n\u001b[1;32m---> 63\u001b[1;33m                 \u001b[1;32mreturn\u001b[0m \u001b[0mf\u001b[0m\u001b[1;33m(\u001b[0m\u001b[1;33m*\u001b[0m\u001b[0margs\u001b[0m\u001b[1;33m,\u001b[0m \u001b[1;33m**\u001b[0m\u001b[0mkwargs\u001b[0m\u001b[1;33m)\u001b[0m\u001b[1;33m\u001b[0m\u001b[1;33m\u001b[0m\u001b[0m\n\u001b[0m\u001b[0;32m     64\u001b[0m \u001b[1;33m\u001b[0m\u001b[0m\n\u001b[0;32m     65\u001b[0m             \u001b[1;31m# extra_args > 0\u001b[0m\u001b[1;33m\u001b[0m\u001b[1;33m\u001b[0m\u001b[1;33m\u001b[0m\u001b[0m\n",
      "\u001b[1;32m~\\AppData\\Roaming\\Python\\Python39\\site-packages\\sklearn\\metrics\\_classification.py\u001b[0m in \u001b[0;36mclassification_report\u001b[1;34m(y_true, y_pred, labels, target_names, sample_weight, digits, output_dict, zero_division)\u001b[0m\n\u001b[0;32m   1964\u001b[0m     \"\"\"\n\u001b[0;32m   1965\u001b[0m \u001b[1;33m\u001b[0m\u001b[0m\n\u001b[1;32m-> 1966\u001b[1;33m     \u001b[0my_type\u001b[0m\u001b[1;33m,\u001b[0m \u001b[0my_true\u001b[0m\u001b[1;33m,\u001b[0m \u001b[0my_pred\u001b[0m \u001b[1;33m=\u001b[0m \u001b[0m_check_targets\u001b[0m\u001b[1;33m(\u001b[0m\u001b[0my_true\u001b[0m\u001b[1;33m,\u001b[0m \u001b[0my_pred\u001b[0m\u001b[1;33m)\u001b[0m\u001b[1;33m\u001b[0m\u001b[1;33m\u001b[0m\u001b[0m\n\u001b[0m\u001b[0;32m   1967\u001b[0m \u001b[1;33m\u001b[0m\u001b[0m\n\u001b[0;32m   1968\u001b[0m     \u001b[1;32mif\u001b[0m \u001b[0mlabels\u001b[0m \u001b[1;32mis\u001b[0m \u001b[1;32mNone\u001b[0m\u001b[1;33m:\u001b[0m\u001b[1;33m\u001b[0m\u001b[1;33m\u001b[0m\u001b[0m\n",
      "\u001b[1;32m~\\AppData\\Roaming\\Python\\Python39\\site-packages\\sklearn\\metrics\\_classification.py\u001b[0m in \u001b[0;36m_check_targets\u001b[1;34m(y_true, y_pred)\u001b[0m\n\u001b[0;32m     81\u001b[0m     \u001b[0my_pred\u001b[0m \u001b[1;33m:\u001b[0m \u001b[0marray\u001b[0m \u001b[1;32mor\u001b[0m \u001b[0mindicator\u001b[0m \u001b[0mmatrix\u001b[0m\u001b[1;33m\u001b[0m\u001b[1;33m\u001b[0m\u001b[0m\n\u001b[0;32m     82\u001b[0m     \"\"\"\n\u001b[1;32m---> 83\u001b[1;33m     \u001b[0mcheck_consistent_length\u001b[0m\u001b[1;33m(\u001b[0m\u001b[0my_true\u001b[0m\u001b[1;33m,\u001b[0m \u001b[0my_pred\u001b[0m\u001b[1;33m)\u001b[0m\u001b[1;33m\u001b[0m\u001b[1;33m\u001b[0m\u001b[0m\n\u001b[0m\u001b[0;32m     84\u001b[0m     \u001b[0mtype_true\u001b[0m \u001b[1;33m=\u001b[0m \u001b[0mtype_of_target\u001b[0m\u001b[1;33m(\u001b[0m\u001b[0my_true\u001b[0m\u001b[1;33m)\u001b[0m\u001b[1;33m\u001b[0m\u001b[1;33m\u001b[0m\u001b[0m\n\u001b[0;32m     85\u001b[0m     \u001b[0mtype_pred\u001b[0m \u001b[1;33m=\u001b[0m \u001b[0mtype_of_target\u001b[0m\u001b[1;33m(\u001b[0m\u001b[0my_pred\u001b[0m\u001b[1;33m)\u001b[0m\u001b[1;33m\u001b[0m\u001b[1;33m\u001b[0m\u001b[0m\n",
      "\u001b[1;32m~\\AppData\\Roaming\\Python\\Python39\\site-packages\\sklearn\\utils\\validation.py\u001b[0m in \u001b[0;36mcheck_consistent_length\u001b[1;34m(*arrays)\u001b[0m\n\u001b[0;32m    260\u001b[0m     \u001b[0muniques\u001b[0m \u001b[1;33m=\u001b[0m \u001b[0mnp\u001b[0m\u001b[1;33m.\u001b[0m\u001b[0munique\u001b[0m\u001b[1;33m(\u001b[0m\u001b[0mlengths\u001b[0m\u001b[1;33m)\u001b[0m\u001b[1;33m\u001b[0m\u001b[1;33m\u001b[0m\u001b[0m\n\u001b[0;32m    261\u001b[0m     \u001b[1;32mif\u001b[0m \u001b[0mlen\u001b[0m\u001b[1;33m(\u001b[0m\u001b[0muniques\u001b[0m\u001b[1;33m)\u001b[0m \u001b[1;33m>\u001b[0m \u001b[1;36m1\u001b[0m\u001b[1;33m:\u001b[0m\u001b[1;33m\u001b[0m\u001b[1;33m\u001b[0m\u001b[0m\n\u001b[1;32m--> 262\u001b[1;33m         raise ValueError(\"Found input variables with inconsistent numbers of\"\n\u001b[0m\u001b[0;32m    263\u001b[0m                          \" samples: %r\" % [int(l) for l in lengths])\n\u001b[0;32m    264\u001b[0m \u001b[1;33m\u001b[0m\u001b[0m\n",
      "\u001b[1;31mValueError\u001b[0m: Found input variables with inconsistent numbers of samples: [207342, 18143]"
     ]
    }
   ],
   "source": [
    "from sklearn.preprocessing import Binarizer\n",
    "from sklearn.metrics import classification_report\n",
    "for label in threshold.keys():\n",
    "    actual_tag=label.replace('_predict','')\n",
    "    y_test_label = np.where(sample_submission_df[actual_tag]==1, 1, 0)\n",
    "    y_pred_temp = Binarizer(0.98).fit_transform(train_df[label].values.reshape(-1,1)) \n",
    "    score = classification_report(y_test_label, y_pred_temp)  \n",
    "    print(score)"
   ]
  },
  {
   "cell_type": "code",
   "execution_count": 58,
   "metadata": {
    "execution": {
     "iopub.execute_input": "2020-12-02T17:13:01.185104Z",
     "iopub.status.busy": "2020-12-02T17:13:01.184218Z",
     "iopub.status.idle": "2020-12-02T17:13:01.188484Z",
     "shell.execute_reply": "2020-12-02T17:13:01.187851Z"
    },
    "papermill": {
     "duration": 0.206851,
     "end_time": "2020-12-02T17:13:01.188626",
     "exception": false,
     "start_time": "2020-12-02T17:13:00.981775",
     "status": "completed"
    },
    "tags": []
   },
   "outputs": [],
   "source": [
    "\n",
    "# train_df[label+'_pred'] = train_df[label+'_predict'].apply(lambda x: 1 if x >= threshold[label+'_predict'] else 0)\n",
    "# for tag in threshold.keys():\n",
    "#   actual_tag=tag.replace('_predict','')\n",
    "#   pred_tag=tag.replace('_predict','')+\"_pred\"\n",
    "#   plot_cm(train_df,actual_tag,pred_tag,actual_tag+' label - actual vs predict',tag,'Actual')"
   ]
  },
  {
   "cell_type": "code",
   "execution_count": 59,
   "metadata": {
    "execution": {
     "iopub.execute_input": "2020-12-02T17:13:01.589470Z",
     "iopub.status.busy": "2020-12-02T17:13:01.588326Z",
     "iopub.status.idle": "2020-12-02T17:13:01.592019Z",
     "shell.execute_reply": "2020-12-02T17:13:01.591250Z"
    },
    "papermill": {
     "duration": 0.204326,
     "end_time": "2020-12-02T17:13:01.592147",
     "exception": false,
     "start_time": "2020-12-02T17:13:01.387821",
     "status": "completed"
    },
    "tags": []
   },
   "outputs": [],
   "source": [
    "# train_df.head()"
   ]
  },
  {
   "cell_type": "code",
   "execution_count": 60,
   "metadata": {
    "execution": {
     "iopub.execute_input": "2020-12-02T17:13:01.991803Z",
     "iopub.status.busy": "2020-12-02T17:13:01.990967Z",
     "iopub.status.idle": "2020-12-02T17:13:01.994814Z",
     "shell.execute_reply": "2020-12-02T17:13:01.994025Z"
    },
    "papermill": {
     "duration": 0.205334,
     "end_time": "2020-12-02T17:13:01.994949",
     "exception": false,
     "start_time": "2020-12-02T17:13:01.789615",
     "status": "completed"
    },
    "tags": []
   },
   "outputs": [],
   "source": [
    "# def list_actual(x):\n",
    "#     actual_list = []\n",
    "#     for label in label_mapping.keys(): \n",
    "#         actual_tag = label.replace('_predict','')\n",
    "#         actual_list.append(x[actual_tag])\n",
    "#     return actual_list\n",
    "# train_df['actual_label'] = train_df.apply(list_actual,axis=1)"
   ]
  },
  {
   "cell_type": "code",
   "execution_count": 61,
   "metadata": {
    "execution": {
     "iopub.execute_input": "2020-12-02T17:13:02.414783Z",
     "iopub.status.busy": "2020-12-02T17:13:02.413849Z",
     "iopub.status.idle": "2020-12-02T17:13:02.417758Z",
     "shell.execute_reply": "2020-12-02T17:13:02.417083Z"
    },
    "papermill": {
     "duration": 0.213167,
     "end_time": "2020-12-02T17:13:02.417892",
     "exception": false,
     "start_time": "2020-12-02T17:13:02.204725",
     "status": "completed"
    },
    "tags": []
   },
   "outputs": [],
   "source": [
    "# train_df.head()"
   ]
  },
  {
   "cell_type": "code",
   "execution_count": 62,
   "metadata": {
    "execution": {
     "iopub.execute_input": "2020-12-02T17:13:02.822493Z",
     "iopub.status.busy": "2020-12-02T17:13:02.821727Z",
     "iopub.status.idle": "2020-12-02T17:13:02.825678Z",
     "shell.execute_reply": "2020-12-02T17:13:02.825012Z"
    },
    "papermill": {
     "duration": 0.210208,
     "end_time": "2020-12-02T17:13:02.825803",
     "exception": false,
     "start_time": "2020-12-02T17:13:02.615595",
     "status": "completed"
    },
    "tags": []
   },
   "outputs": [],
   "source": [
    "# temp_df = train_df[['toxic_predict','severe_toxic_predict','obscene_predict','threat_predict','insult_predict','identity_hate_predict','actual_label']]"
   ]
  },
  {
   "cell_type": "code",
   "execution_count": 63,
   "metadata": {
    "execution": {
     "iopub.execute_input": "2020-12-02T17:13:03.228028Z",
     "iopub.status.busy": "2020-12-02T17:13:03.227251Z",
     "iopub.status.idle": "2020-12-02T17:13:03.231910Z",
     "shell.execute_reply": "2020-12-02T17:13:03.231086Z"
    },
    "papermill": {
     "duration": 0.207293,
     "end_time": "2020-12-02T17:13:03.232038",
     "exception": false,
     "start_time": "2020-12-02T17:13:03.024745",
     "status": "completed"
    },
    "tags": []
   },
   "outputs": [],
   "source": [
    "# temp_df = temp_df.head(500)"
   ]
  },
  {
   "cell_type": "code",
   "execution_count": 64,
   "metadata": {
    "execution": {
     "iopub.execute_input": "2020-12-02T17:13:03.645508Z",
     "iopub.status.busy": "2020-12-02T17:13:03.644645Z",
     "iopub.status.idle": "2020-12-02T17:13:03.648619Z",
     "shell.execute_reply": "2020-12-02T17:13:03.647715Z"
    },
    "papermill": {
     "duration": 0.212034,
     "end_time": "2020-12-02T17:13:03.648753",
     "exception": false,
     "start_time": "2020-12-02T17:13:03.436719",
     "status": "completed"
    },
    "tags": []
   },
   "outputs": [],
   "source": [
    "# temp_df.head(10)"
   ]
  },
  {
   "cell_type": "code",
   "execution_count": 65,
   "metadata": {
    "execution": {
     "iopub.execute_input": "2020-12-02T17:13:04.054228Z",
     "iopub.status.busy": "2020-12-02T17:13:04.053339Z",
     "iopub.status.idle": "2020-12-02T17:13:04.058037Z",
     "shell.execute_reply": "2020-12-02T17:13:04.057213Z"
    },
    "papermill": {
     "duration": 0.209748,
     "end_time": "2020-12-02T17:13:04.058179",
     "exception": false,
     "start_time": "2020-12-02T17:13:03.848431",
     "status": "completed"
    },
    "tags": []
   },
   "outputs": [],
   "source": [
    "# def get_pred_thres_arr(row,label,t):\n",
    "#     bin_arr=[]\n",
    "#     temp_thres=threshold.copy()\n",
    "#     temp_thres[label]=t\n",
    "#     for tag in threshold.keys():\n",
    "#         res=0\n",
    "#         if row[tag]>=temp_thres[tag]:\n",
    "#             res=1\n",
    "#         bin_arr.append(res)\n",
    "#     return bin_arr"
   ]
  },
  {
   "cell_type": "code",
   "execution_count": 66,
   "metadata": {
    "execution": {
     "iopub.execute_input": "2020-12-02T17:13:04.463381Z",
     "iopub.status.busy": "2020-12-02T17:13:04.462569Z",
     "iopub.status.idle": "2020-12-02T17:13:04.466487Z",
     "shell.execute_reply": "2020-12-02T17:13:04.465719Z"
    },
    "papermill": {
     "duration": 0.208942,
     "end_time": "2020-12-02T17:13:04.466622",
     "exception": false,
     "start_time": "2020-12-02T17:13:04.257680",
     "status": "completed"
    },
    "tags": []
   },
   "outputs": [],
   "source": [
    "# threshold"
   ]
  },
  {
   "cell_type": "code",
   "execution_count": 67,
   "metadata": {
    "execution": {
     "iopub.execute_input": "2020-12-02T17:13:04.869770Z",
     "iopub.status.busy": "2020-12-02T17:13:04.869027Z",
     "iopub.status.idle": "2020-12-02T17:13:04.871976Z",
     "shell.execute_reply": "2020-12-02T17:13:04.871222Z"
    },
    "papermill": {
     "duration": 0.206084,
     "end_time": "2020-12-02T17:13:04.872113",
     "exception": false,
     "start_time": "2020-12-02T17:13:04.666029",
     "status": "completed"
    },
    "tags": []
   },
   "outputs": [],
   "source": [
    "# %%time\n",
    "\n",
    "# from sklearn.preprocessing import Binarizer\n",
    "# from sklearn.preprocessing import MultiLabelBinarizer\n",
    "\n",
    "# from sklearn.metrics import f1_score\n",
    "# for label in threshold.keys(): \n",
    "#     actual_tag = label.replace('_predict','')\n",
    "#     y_test_label = np.array(list(temp_df['actual_label'].values))\n",
    "#     thresholds = np.arange(0.02, 1, 0.02)\n",
    "#     t_opt = 0\n",
    "#     score_max = 0\n",
    "#     for t in thresholds:\n",
    "#         temp_df['pred_thres_bin']=temp_df.apply(lambda x: get_pred_thres_arr(x,actual_tag,t),axis=1)\n",
    "#         y_pred_temp= np.array(list(temp_df['pred_thres_bin'].values))\n",
    "#         score = f1_score(y_test_label, y_pred_temp, average='weighted')  # f1 score\n",
    "#         if (score > score_max):\n",
    "#             score_max = score\n",
    "#             t_opt = t\n",
    "#     print(\"Class: \", label, \"\\t Threshold: \", t_opt)"
   ]
  },
  {
   "cell_type": "code",
   "execution_count": null,
   "metadata": {
    "papermill": {
     "duration": 0.205073,
     "end_time": "2020-12-02T17:13:05.278170",
     "exception": false,
     "start_time": "2020-12-02T17:13:05.073097",
     "status": "completed"
    },
    "tags": []
   },
   "outputs": [],
   "source": [
    "    "
   ]
  }
 ],
 "metadata": {
  "kernelspec": {
   "name": "python3",
   "display_name": "Python 3.9.0 64-bit",
   "metadata": {
    "interpreter": {
     "hash": "ac59ebe37160ed0dfa835113d9b8498d9f09ceb179beaac4002f036b9467c963"
    }
   }
  },
  "language_info": {
   "codemirror_mode": {
    "name": "ipython",
    "version": 3
   },
   "file_extension": ".py",
   "mimetype": "text/x-python",
   "name": "python",
   "nbconvert_exporter": "python",
   "pygments_lexer": "ipython3",
   "version": "3.9.0-final"
  },
  "papermill": {
   "duration": 2521.342257,
   "end_time": "2020-12-02T17:13:05.791595",
   "environment_variables": {},
   "exception": null,
   "input_path": "__notebook__.ipynb",
   "output_path": "__notebook__.ipynb",
   "parameters": {},
   "start_time": "2020-12-02T16:31:04.449338",
   "version": "2.1.0"
  }
 },
 "nbformat": 4,
 "nbformat_minor": 4
}